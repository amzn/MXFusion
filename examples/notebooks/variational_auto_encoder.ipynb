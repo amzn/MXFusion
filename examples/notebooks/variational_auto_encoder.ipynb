{
 "cells": [
  {
   "cell_type": "markdown",
   "metadata": {},
   "source": [
    "# Variational Auto-Encoder (VAE)\n",
    "\n",
    "### Zhenwen Dai (2019-05-29)"
   ]
  },
  {
   "cell_type": "markdown",
   "metadata": {},
   "source": [
    "Variational auto-encoder (VAE) is a latent variable model that uses a latent variable to generate data represented in vector form. Consider a latent variable $x$ and an observed variable $y$. The plain VAE is defined as\n",
    "\\begin{align}\n",
    "p(x) =& \\mathcal{N}(0, I) \\\\\n",
    "p(y|x) =& \\mathcal{N}(f(x), \\sigma^2I)\n",
    "\\end{align}\n",
    "where $f$ is the deep neural network (DNN), often referred to as the decoder network.\n",
    "\n",
    "The variational posterior of VAE is defined as \n",
    "\\begin{align}\n",
    "q(x) = \\mathcal{N}\\left(g_{\\mu}(y), \\sigma^2_x I)\\right)\n",
    "\\end{align}\n",
    "where $g_{\\mu}$ is the encoder networks that generate the mean of the variational posterior of $x$. For simplicity, we assume that all the data points share the same variance in the variational posteior. This can be extended by generating the variance also from the encoder network."
   ]
  },
  {
   "cell_type": "code",
   "execution_count": 1,
   "metadata": {},
   "outputs": [],
   "source": [
    "import warnings\n",
    "warnings.filterwarnings('ignore')\n",
    "import mxfusion as mf\n",
    "import mxnet as mx\n",
    "import numpy as np\n",
    "import mxnet.gluon.nn as nn\n",
    "import mxfusion.components\n",
    "import mxfusion.inference\n",
    "%matplotlib inline\n",
    "from pylab import *"
   ]
  },
  {
   "cell_type": "markdown",
   "metadata": {},
   "source": [
    "## Load a toy dataset"
   ]
  },
  {
   "cell_type": "code",
   "execution_count": 2,
   "metadata": {},
   "outputs": [],
   "source": [
    "import GPy\n",
    "data = GPy.util.datasets.oil_100()\n",
    "Y = data['X']\n",
    "label = data['Y'].argmax(1)"
   ]
  },
  {
   "cell_type": "code",
   "execution_count": 3,
   "metadata": {},
   "outputs": [],
   "source": [
    "N, D = Y.shape"
   ]
  },
  {
   "cell_type": "markdown",
   "metadata": {},
   "source": [
    "## Model Defintion\n",
    "\n",
    "We first define that the encoder and decoder DNN with MXNet Gluon blocks. Both DNNs have two hidden layers with tanh non-linearity."
   ]
  },
  {
   "cell_type": "code",
   "execution_count": 4,
   "metadata": {},
   "outputs": [],
   "source": [
    "Q = 2"
   ]
  },
  {
   "cell_type": "code",
   "execution_count": 5,
   "metadata": {},
   "outputs": [],
   "source": [
    "H = 50\n",
    "encoder = nn.HybridSequential(prefix='encoder_')\n",
    "with encoder.name_scope():\n",
    "    encoder.add(nn.Dense(H, in_units=D, activation=\"tanh\", flatten=False))\n",
    "    encoder.add(nn.Dense(H, in_units=H, activation=\"tanh\", flatten=False))\n",
    "    encoder.add(nn.Dense(Q, in_units=H, flatten=False))\n",
    "encoder.initialize(mx.init.Xavier(magnitude=3))"
   ]
  },
  {
   "cell_type": "code",
   "execution_count": 6,
   "metadata": {},
   "outputs": [],
   "source": [
    "H = 50\n",
    "decoder = nn.HybridSequential(prefix='decoder_')\n",
    "with decoder.name_scope():\n",
    "    decoder.add(nn.Dense(H, in_units=Q, activation=\"tanh\", flatten=False))\n",
    "    decoder.add(nn.Dense(H, in_units=H, activation=\"tanh\", flatten=False))\n",
    "    decoder.add(nn.Dense(D, in_units=H, flatten=False))\n",
    "decoder.initialize(mx.init.Xavier(magnitude=3))"
   ]
  },
  {
   "cell_type": "markdown",
   "metadata": {},
   "source": [
    "Then, we define the model of VAE in MXFusion. Note that for simplicity in implementation, we use scalar normal distributions defined for individual entries of a Matrix instead of multivariate normal distributions with diagonal covariance matrices."
   ]
  },
  {
   "cell_type": "code",
   "execution_count": 8,
   "metadata": {},
   "outputs": [
    {
     "name": "stdout",
     "output_type": "stream",
     "text": [
      "Model (37a04)\n",
      "Variable (b92c2) = BroadcastToOperator(data=Variable noise_var (a50d4))\n",
      "Variable (39c2c) = BroadcastToOperator(data=Variable (e1aad))\n",
      "Variable (b7150) = BroadcastToOperator(data=Variable (a57d4))\n",
      "Variable x (53056) ~ Normal(mean=Variable (b7150), variance=Variable (39c2c))\n",
      "Variable f (ad606) = GluonFunctionEvaluation(decoder_input_0=Variable x (53056), decoder_dense0_weight=Variable (b9b70), decoder_dense0_bias=Variable (d95aa), decoder_dense1_weight=Variable (73dc2), decoder_dense1_bias=Variable (b85dd), decoder_dense2_weight=Variable (7a61c), decoder_dense2_bias=Variable (eba91))\n",
      "Variable y (23bca) ~ Normal(mean=Variable f (ad606), variance=Variable (b92c2))\n"
     ]
    }
   ],
   "source": [
    "from mxfusion.components.variables.var_trans import PositiveTransformation\n",
    "from mxfusion import Variable, Model, Posterior\n",
    "from mxfusion.components.functions import MXFusionGluonFunction\n",
    "from mxfusion.components.distributions import Normal\n",
    "from mxfusion.components.functions.operators import broadcast_to\n",
    "\n",
    "m = Model()\n",
    "m.N = Variable()\n",
    "m.decoder = MXFusionGluonFunction(decoder, num_outputs=1,broadcastable=True)\n",
    "m.x = Normal.define_variable(mean=broadcast_to(mx.nd.array([0]), (m.N, Q)),\n",
    "                             variance=broadcast_to(mx.nd.array([1]), (m.N, Q)), shape=(m.N, Q))\n",
    "m.f = m.decoder(m.x)\n",
    "m.noise_var = Variable(shape=(1,), transformation=PositiveTransformation(), initial_value=mx.nd.array([0.01]))\n",
    "m.y = Normal.define_variable(mean=m.f, variance=broadcast_to(m.noise_var, (m.N, D)), \n",
    "                             shape=(m.N, D))\n",
    "print(m)"
   ]
  },
  {
   "cell_type": "markdown",
   "metadata": {},
   "source": [
    "We also define the variational posterior following the equation above."
   ]
  },
  {
   "cell_type": "code",
   "execution_count": 9,
   "metadata": {},
   "outputs": [
    {
     "name": "stdout",
     "output_type": "stream",
     "text": [
      "Posterior (4ec05)\n",
      "Variable x_mean (86d22) = GluonFunctionEvaluation(encoder_input_0=Variable y (23bca), encoder_dense0_weight=Variable (51b3d), encoder_dense0_bias=Variable (c0092), encoder_dense1_weight=Variable (ad9ef), encoder_dense1_bias=Variable (83db0), encoder_dense2_weight=Variable (78b82), encoder_dense2_bias=Variable (b856d))\n",
      "Variable (6dc84) = BroadcastToOperator(data=Variable x_var (19d07))\n",
      "Variable x (53056) ~ Normal(mean=Variable x_mean (86d22), variance=Variable (6dc84))\n"
     ]
    }
   ],
   "source": [
    "q = Posterior(m)\n",
    "q.x_var = Variable(shape=(1,), transformation=PositiveTransformation(), initial_value=mx.nd.array([1e-6]))\n",
    "q.encoder = MXFusionGluonFunction(encoder, num_outputs=1, broadcastable=True)\n",
    "q.x_mean = q.encoder(q.y)\n",
    "q.x.set_prior(Normal(mean=q.x_mean, variance=broadcast_to(q.x_var, q.x.shape)))\n",
    "print(q)"
   ]
  },
  {
   "cell_type": "markdown",
   "metadata": {},
   "source": [
    "## Variational Inference\n",
    "\n",
    "Variational inference is done via creating an inference object and passing in the stochastic variational inference algorithm."
   ]
  },
  {
   "cell_type": "code",
   "execution_count": 11,
   "metadata": {},
   "outputs": [],
   "source": [
    "from mxfusion.inference import BatchInferenceLoop, StochasticVariationalInference, GradBasedInference\n",
    "\n",
    "observed = [m.y]\n",
    "alg = StochasticVariationalInference(num_samples=3, model=m, posterior=q, observed=observed)\n",
    "infr = GradBasedInference(inference_algorithm=alg, grad_loop=BatchInferenceLoop())"
   ]
  },
  {
   "cell_type": "markdown",
   "metadata": {},
   "source": [
    "SVI is a gradient-based algorithm. We can run the algorithm by providing the data and specifying the parameters for the gradient optimizer (the default gradient optimizer is Adam)."
   ]
  },
  {
   "cell_type": "code",
   "execution_count": 13,
   "metadata": {
    "scrolled": false
   },
   "outputs": [
    {
     "name": "stdout",
     "output_type": "stream",
     "text": [
      "Iteration 200 loss: 1720.556396484375\t\t\t\t\t\n",
      "Iteration 400 loss: 601.11962890625\t\t\t\t\t\t\t\n",
      "Iteration 600 loss: 168.620849609375\t\t\t\t\t\t\n",
      "Iteration 800 loss: -48.67474365234375\t\t\t\t\t\n",
      "Iteration 1000 loss: -207.34835815429688\t\t\t\t\n",
      "Iteration 1200 loss: -354.17742919921875\t\t\t\t\n",
      "Iteration 1400 loss: -356.26409912109375\t\t\t\t\n",
      "Iteration 1600 loss: -561.263427734375\t\t\t\t\t\t\n",
      "Iteration 1800 loss: -697.8665161132812\t\t\t\t\t\n",
      "Iteration 2000 loss: -753.83203125\t\t\t\t8\t\t\t\t\t\n"
     ]
    }
   ],
   "source": [
    "infr.run(max_iter=2000, learning_rate=1e-2, y=mx.nd.array(Y), verbose=True)"
   ]
  },
  {
   "cell_type": "markdown",
   "metadata": {},
   "source": [
    "## Plot the training data in the latent space\n",
    "\n",
    "Finally, we may be interested in visualizing the latent space of our dataset. We can do that by calling encoder network."
   ]
  },
  {
   "cell_type": "code",
   "execution_count": 17,
   "metadata": {},
   "outputs": [],
   "source": [
    "from mxfusion.inference import TransferInference\n",
    "\n",
    "q_x_mean = q.encoder.gluon_block(mx.nd.array(Y)).asnumpy()"
   ]
  },
  {
   "cell_type": "code",
   "execution_count": 18,
   "metadata": {},
   "outputs": [
    {
     "data": {
      "image/png": "[encoded data removed]",
      "text/plain": [
       "<Figure size 432x288 with 1 Axes>"
      ]
     },
     "metadata": {
      "needs_background": "light"
     },
     "output_type": "display_data"
    }
   ],
   "source": [
    "for i in range(3):\n",
    "    plot(q_x_mean[label==i,0], q_x_mean[label==i,1], '.')"
   ]
  }
 ],
 "metadata": {
  "kernelspec": {
   "display_name": "Python 3",
   "language": "python",
   "name": "python3"
  },
  "language_info": {
   "codemirror_mode": {
    "name": "ipython",
    "version": 3
   },
   "file_extension": ".py",
   "mimetype": "text/x-python",
   "name": "python",
   "nbconvert_exporter": "python",
   "pygments_lexer": "ipython3",
   "version": "3.6.0"
  }
 },
 "nbformat": 4,
 "nbformat_minor": 2
}
