{
 "cells": [
  {
   "cell_type": "markdown",
   "metadata": {},
   "source": [
    "# Variational Auto-Encoder (VAE)\n",
    "\n",
    "### Zhenwen Dai (2019-04-23)"
   ]
  },
  {
   "cell_type": "code",
   "execution_count": 1,
   "metadata": {},
   "outputs": [],
   "source": [
    "import warnings\n",
    "warnings.filterwarnings('ignore')\n",
    "import mxfusion as mf\n",
    "import mxnet as mx\n",
    "import numpy as np\n",
    "import mxnet.gluon.nn as nn\n",
    "import mxfusion.components\n",
    "import mxfusion.inference\n",
    "%matplotlib inline\n",
    "from pylab import *"
   ]
  },
  {
   "cell_type": "markdown",
   "metadata": {},
   "source": [
    "## Load a toy dataset"
   ]
  },
  {
   "cell_type": "code",
   "execution_count": 2,
   "metadata": {},
   "outputs": [],
   "source": [
    "import GPy\n",
    "data = GPy.util.datasets.oil_100()\n",
    "Y = data['X']\n",
    "label = data['Y'].argmax(1)"
   ]
  },
  {
   "cell_type": "code",
   "execution_count": 3,
   "metadata": {},
   "outputs": [],
   "source": [
    "N, D = Y.shape"
   ]
  },
  {
   "cell_type": "markdown",
   "metadata": {},
   "source": [
    "## Model Defintion"
   ]
  },
  {
   "cell_type": "code",
   "execution_count": 4,
   "metadata": {},
   "outputs": [],
   "source": [
    "Q = 2"
   ]
  },
  {
   "cell_type": "code",
   "execution_count": 5,
   "metadata": {},
   "outputs": [],
   "source": [
    "H = 50\n",
    "encoder = nn.HybridSequential(prefix='encoder_')\n",
    "with encoder.name_scope():\n",
    "    encoder.add(nn.Dense(H, in_units=D, activation=\"tanh\", flatten=False))\n",
    "    encoder.add(nn.Dense(H, in_units=H, activation=\"tanh\", flatten=False))\n",
    "    encoder.add(nn.Dense(Q, in_units=H, flatten=False))\n",
    "encoder.initialize(mx.init.Xavier(magnitude=3))"
   ]
  },
  {
   "cell_type": "code",
   "execution_count": 6,
   "metadata": {},
   "outputs": [],
   "source": [
    "H = 50\n",
    "decoder = nn.HybridSequential(prefix='decoder_')\n",
    "with decoder.name_scope():\n",
    "    decoder.add(nn.Dense(H, in_units=Q, activation=\"tanh\", flatten=False))\n",
    "    decoder.add(nn.Dense(H, in_units=H, activation=\"tanh\", flatten=False))\n",
    "    decoder.add(nn.Dense(D, in_units=H, flatten=False))\n",
    "decoder.initialize(mx.init.Xavier(magnitude=3))"
   ]
  },
  {
   "cell_type": "code",
   "execution_count": 7,
   "metadata": {},
   "outputs": [],
   "source": [
    "from mxfusion.components.variables.var_trans import PositiveTransformation\n",
    "from mxfusion import Variable, Model, Posterior\n",
    "from mxfusion.components.functions import MXFusionGluonFunction\n",
    "from mxfusion.components.distributions import Normal\n",
    "from mxfusion.components.functions.operators import broadcast_to"
   ]
  },
  {
   "cell_type": "code",
   "execution_count": 8,
   "metadata": {},
   "outputs": [
    {
     "name": "stdout",
     "output_type": "stream",
     "text": [
      "Model (95c68)\n",
      "Variable (b8df3) = BroadcastToOperator(data=Variable noise_var (873b0))\n",
      "Variable (36f25) = BroadcastToOperator(data=Variable (399cc))\n",
      "Variable (6a234) = BroadcastToOperator(data=Variable (2fe44))\n",
      "Variable x (1696c) ~ Normal(mean=Variable (6a234), variance=Variable (36f25))\n",
      "Variable f (0d26d) = GluonFunctionEvaluation(decoder_input_0=Variable x (1696c), decoder_dense0_weight=Variable (89315), decoder_dense0_bias=Variable (41eac), decoder_dense1_weight=Variable (b69fe), decoder_dense1_bias=Variable (8e4e6), decoder_dense2_weight=Variable (a99ff), decoder_dense2_bias=Variable (f0361))\n",
      "Variable y (5f5c3) ~ Normal(mean=Variable f (0d26d), variance=Variable (b8df3))\n"
     ]
    }
   ],
   "source": [
    "m = mf.models.Model()\n",
    "m.N = mf.components.Variable()\n",
    "m.decoder = MXFusionGluonFunction(decoder, num_outputs=1,broadcastable=True)\n",
    "m.x = Normal.define_variable(mean=broadcast_to(mx.nd.array([0]), (m.N, Q)),\n",
    "                             variance=broadcast_to(mx.nd.array([1]), (m.N, Q)), shape=(m.N, Q))\n",
    "m.f = m.decoder(m.x)\n",
    "m.noise_var = Variable(shape=(1,), transformation=PositiveTransformation(), initial_value=mx.nd.array([0.01]))\n",
    "m.y = Normal.define_variable(mean=m.f, variance=broadcast_to(m.noise_var, (m.N, D)), \n",
    "                             shape=(m.N, D))\n",
    "print(m)"
   ]
  },
  {
   "cell_type": "code",
   "execution_count": 9,
   "metadata": {},
   "outputs": [
    {
     "name": "stdout",
     "output_type": "stream",
     "text": [
      "Posterior (63197)\n",
      "Variable x_mean (09eba) = GluonFunctionEvaluation(encoder_input_0=Variable y (5f5c3), encoder_dense0_weight=Variable (81ec2), encoder_dense0_bias=Variable (aa736), encoder_dense1_weight=Variable (3c4ae), encoder_dense1_bias=Variable (1bab5), encoder_dense2_weight=Variable (7b531), encoder_dense2_bias=Variable (84731))\n",
      "Variable (f88b7) = BroadcastToOperator(data=Variable x_var (fc12e))\n",
      "Variable x (1696c) ~ Normal(mean=Variable x_mean (09eba), variance=Variable (f88b7))\n"
     ]
    }
   ],
   "source": [
    "q = Posterior(m)\n",
    "q.x_var = Variable(shape=(1,), transformation=PositiveTransformation(), initial_value=mx.nd.array([1e-6]))\n",
    "q.encoder = MXFusionGluonFunction(encoder, num_outputs=1, broadcastable=True)\n",
    "q.x_mean = q.encoder(q.y)\n",
    "q.x.set_prior(Normal(mean=q.x_mean, variance=broadcast_to(q.x_var, q.x.shape)))\n",
    "print(q)"
   ]
  },
  {
   "cell_type": "markdown",
   "metadata": {},
   "source": [
    "## Variational Inference"
   ]
  },
  {
   "cell_type": "code",
   "execution_count": 10,
   "metadata": {},
   "outputs": [],
   "source": [
    "from mxfusion.inference import BatchInferenceLoop, StochasticVariationalInference, GradBasedInference"
   ]
  },
  {
   "cell_type": "code",
   "execution_count": 11,
   "metadata": {},
   "outputs": [],
   "source": [
    "observed = [m.y]\n",
    "alg = StochasticVariationalInference(num_samples=3, model=m, posterior=q, observed=observed)\n",
    "infr = GradBasedInference(inference_algorithm=alg, grad_loop=BatchInferenceLoop())"
   ]
  },
  {
   "cell_type": "code",
   "execution_count": 12,
   "metadata": {},
   "outputs": [],
   "source": [
    "infr.initialize(y=mx.nd.array(Y))"
   ]
  },
  {
   "cell_type": "code",
   "execution_count": 13,
   "metadata": {
    "scrolled": false
   },
   "outputs": [
    {
     "name": "stdout",
     "output_type": "stream",
     "text": [
      "Iteration 201 loss: 1715.0395507812555\n",
      "Iteration 401 loss: 599.86877441406255\n",
      "Iteration 601 loss: 177.60995483398438\n",
      "Iteration 801 loss: -75.347778320312555\n",
      "Iteration 1001 loss: -213.82623291015625\n",
      "Iteration 1201 loss: -332.34564208984375\n",
      "Iteration 1401 loss: -305.57965087890625\n",
      "Iteration 1601 loss: -577.47900390625585\n",
      "Iteration 1801 loss: -669.97760009765625\n",
      "Iteration 2000 loss: -753.83203125234385"
     ]
    }
   ],
   "source": [
    "infr.run(max_iter=2000, learning_rate=1e-2, y=mx.nd.array(Y), verbose=True)"
   ]
  },
  {
   "cell_type": "markdown",
   "metadata": {},
   "source": [
    "## Plot the training data in the latent space"
   ]
  },
  {
   "cell_type": "code",
   "execution_count": 14,
   "metadata": {},
   "outputs": [],
   "source": [
    "from mxfusion.inference import TransferInference"
   ]
  },
  {
   "cell_type": "code",
   "execution_count": 15,
   "metadata": {},
   "outputs": [],
   "source": [
    "q_x_mean = q.encoder.gluon_block(mx.nd.array(Y)).asnumpy()"
   ]
  },
  {
   "cell_type": "code",
   "execution_count": 16,
   "metadata": {},
   "outputs": [
    {
     "data": {
      "image/png": "[encoded data removed]",
      "text/plain": [
       "<Figure size 432x288 with 1 Axes>"
      ]
     },
     "metadata": {
      "needs_background": "light"
     },
     "output_type": "display_data"
    }
   ],
   "source": [
    "for i in range(3):\n",
    "    plot(q_x_mean[label==i,0], q_x_mean[label==i,1], '.')"
   ]
  }
 ],
 "metadata": {
  "kernelspec": {
   "display_name": "Python 3",
   "language": "python",
   "name": "python3"
  },
  "language_info": {
   "codemirror_mode": {
    "name": "ipython",
    "version": 3
   },
   "file_extension": ".py",
   "mimetype": "text/x-python",
   "name": "python",
   "nbconvert_exporter": "python",
   "pygments_lexer": "ipython3",
   "version": "3.6.0"
  }
 },
 "nbformat": 4,
 "nbformat_minor": 2
}
