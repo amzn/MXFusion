{
 "cells": [
  {
   "cell_type": "markdown",
   "metadata": {},
   "source": [
    "# Bayesian Neural Network (VI) for regression\n",
    "\n",
    "### Zhenwen Dai (2018-8-21)"
   ]
  },
  {
   "cell_type": "markdown",
   "metadata": {},
   "source": [
    "```\n",
    "# Copyright 2018 Amazon.com, Inc. or its affiliates. All Rights Reserved.\n",
    "#\n",
    "#   Licensed under the Apache License, Version 2.0 (the \"License\").\n",
    "#   You may not use this file except in compliance with the License.\n",
    "#   A copy of the License is located at\n",
    "#\n",
    "#       http://www.apache.org/licenses/LICENSE-2.0\n",
    "#\n",
    "#   or in the \"license\" file accompanying this file. This file is distributed\n",
    "#   on an \"AS IS\" BASIS, WITHOUT WARRANTIES OR CONDITIONS OF ANY KIND, either\n",
    "#   express or implied. See the License for the specific language governing\n",
    "#   permissions and limitations under the License.\n",
    "# ==============================================================================\n",
    "```"
   ]
  },
  {
   "cell_type": "code",
   "execution_count": 1,
   "metadata": {},
   "outputs": [],
   "source": [
    "import warnings\n",
    "warnings.filterwarnings('ignore')\n",
    "import os\n",
    "os.environ['MXNET_ENGINE_TYPE'] = 'NaiveEngine'\n",
    "import mxfusion as mf\n",
    "import mxnet as mx\n",
    "import numpy as np\n",
    "import mxnet.gluon.nn as nn\n",
    "import mxfusion.components\n",
    "import mxfusion.inference"
   ]
  },
  {
   "cell_type": "markdown",
   "metadata": {},
   "source": [
    "### Generate Synthetic Data"
   ]
  },
  {
   "cell_type": "code",
   "execution_count": 2,
   "metadata": {},
   "outputs": [
    {
     "data": {
      "text/plain": [
       "[<matplotlib.lines.Line2D at 0x10e9cf6d8>]"
      ]
     },
     "execution_count": 2,
     "metadata": {},
     "output_type": "execute_result"
    },
    {
     "data": {
      "image/png": "[encoded data removed]",
      "text/plain": [
       "<Figure size 432x288 with 1 Axes>"
      ]
     },
     "metadata": {
      "needs_background": "light"
     },
     "output_type": "display_data"
    }
   ],
   "source": [
    "import GPy\n",
    "%matplotlib inline\n",
    "from pylab import *\n",
    "\n",
    "np.random.seed(0)\n",
    "k = GPy.kern.RBF(1, lengthscale=0.1)\n",
    "x = np.random.rand(1000,1)\n",
    "y = np.random.multivariate_normal(mean=np.zeros((1000,)), cov=k.K(x), size=(1,)).T\n",
    "plot(x[:,0], y[:,0], '.')"
   ]
  },
  {
   "cell_type": "markdown",
   "metadata": {},
   "source": [
    "## Model definition"
   ]
  },
  {
   "cell_type": "code",
   "execution_count": 3,
   "metadata": {
    "scrolled": true
   },
   "outputs": [],
   "source": [
    "D = 50\n",
    "net = nn.HybridSequential(prefix='nn_')\n",
    "with net.name_scope():\n",
    "    net.add(nn.Dense(D, activation=\"tanh\", in_units=1))\n",
    "    net.add(nn.Dense(D, activation=\"tanh\", in_units=D))\n",
    "    net.add(nn.Dense(1, flatten=True, in_units=D))\n",
    "net.initialize(mx.init.Xavier(magnitude=3))"
   ]
  },
  {
   "cell_type": "code",
   "execution_count": 4,
   "metadata": {},
   "outputs": [],
   "source": [
    "from mxfusion.components.variables.var_trans import PositiveTransformation\n",
    "from mxfusion.inference import VariationalPosteriorForwardSampling\n",
    "from mxfusion.components.functions.operators import broadcast_to\n",
    "from mxfusion.components.distributions import Normal\n",
    "from mxfusion import Variable, Model\n",
    "from mxfusion.components.functions import MXFusionGluonFunction"
   ]
  },
  {
   "cell_type": "code",
   "execution_count": 5,
   "metadata": {},
   "outputs": [
    {
     "name": "stdout",
     "output_type": "stream",
     "text": [
      "Model (a0f1e)\n",
      "Variable(b08ec) = BroadcastToOperator(data=Variable(6c09d))\n",
      "Variable(1cdae) = BroadcastToOperator(data=Variable(20ed6))\n",
      "Variable(f6567) ~ Normal(mean=Variable(1cdae), variance=Variable(b08ec))\n",
      "Variable(11427) = BroadcastToOperator(data=Variable(cb51c))\n",
      "Variable(6068d) = BroadcastToOperator(data=Variable(a397c))\n",
      "Variable(0d566) ~ Normal(mean=Variable(6068d), variance=Variable(11427))\n",
      "Variable(a2806) = BroadcastToOperator(data=Variable(37171))\n",
      "Variable(64e44) = BroadcastToOperator(data=Variable(58b81))\n",
      "Variable(591da) ~ Normal(mean=Variable(64e44), variance=Variable(a2806))\n",
      "Variable(04dac) = BroadcastToOperator(data=Variable(56e87))\n",
      "Variable(a1d30) = BroadcastToOperator(data=Variable(e500b))\n",
      "Variable(1caf4) ~ Normal(mean=Variable(a1d30), variance=Variable(04dac))\n",
      "Variable(7a6fd) = BroadcastToOperator(data=Variable(39c80))\n",
      "Variable(2bf77) = BroadcastToOperator(data=Variable(2d483))\n",
      "Variable(c555f) ~ Normal(mean=Variable(2bf77), variance=Variable(7a6fd))\n",
      "Variable(9c33c) = BroadcastToOperator(data=Variable(19481))\n",
      "Variable(507a4) = BroadcastToOperator(data=Variable(56583))\n",
      "Variable(5c091) ~ Normal(mean=Variable(507a4), variance=Variable(9c33c))\n",
      "Variable(120d7) = BroadcastToOperator(data=v)\n",
      "r = GluonFunctionEvaluation(nn_input_0=x, nn_dense0_weight=Variable(5c091), nn_dense0_bias=Variable(c555f), nn_dense1_weight=Variable(1caf4), nn_dense1_bias=Variable(591da), nn_dense2_weight=Variable(0d566), nn_dense2_bias=Variable(f6567))\n",
      "y ~ Normal(mean=r, variance=Variable(120d7))\n"
     ]
    }
   ],
   "source": [
    "m = Model()\n",
    "m.N = Variable()\n",
    "m.f = MXFusionGluonFunction(net, num_outputs=1,broadcastable=False)\n",
    "m.x = Variable(shape=(m.N,1))\n",
    "m.v = Variable(shape=(1,), transformation=PositiveTransformation(), initial_value=mx.nd.array([0.01]))\n",
    "m.r = m.f(m.x)\n",
    "for v in m.r.factor.parameters.values():\n",
    "    v.set_prior(Normal(mean=broadcast_to(mx.nd.array([0]), v.shape),\n",
    "                       variance=broadcast_to(mx.nd.array([1.]), v.shape)))\n",
    "m.y = Normal.define_variable(mean=m.r, variance=broadcast_to(m.v, (m.N,1)), shape=(m.N,1))\n",
    "print(m)"
   ]
  },
  {
   "cell_type": "markdown",
   "metadata": {},
   "source": [
    "## Inference with Meanfield"
   ]
  },
  {
   "cell_type": "code",
   "execution_count": 6,
   "metadata": {},
   "outputs": [],
   "source": [
    "from mxfusion.inference import BatchInferenceLoop, create_Gaussian_meanfield, GradBasedInference, StochasticVariationalInference"
   ]
  },
  {
   "cell_type": "code",
   "execution_count": 7,
   "metadata": {},
   "outputs": [],
   "source": [
    "observed = [m.y, m.x]\n",
    "q = create_Gaussian_meanfield(model=m, observed=observed)\n",
    "alg = StochasticVariationalInference(num_samples=3, model=m, posterior=q, observed=observed)\n",
    "infr = GradBasedInference(inference_algorithm=alg, grad_loop=BatchInferenceLoop())"
   ]
  },
  {
   "cell_type": "code",
   "execution_count": 8,
   "metadata": {},
   "outputs": [],
   "source": [
    "infr.initialize(y=mx.nd.array(y), x=mx.nd.array(x))"
   ]
  },
  {
   "cell_type": "code",
   "execution_count": 9,
   "metadata": {},
   "outputs": [],
   "source": [
    "for v_name, v in m.r.factor.parameters.items():\n",
    "    infr.params[q[v].factor.mean] = net.collect_params()[v_name].data()\n",
    "    infr.params[q[v].factor.variance] = mx.nd.ones_like(infr.params[q[v].factor.variance])*1e-6"
   ]
  },
  {
   "cell_type": "code",
   "execution_count": 10,
   "metadata": {
    "scrolled": false
   },
   "outputs": [
    {
     "name": "stdout",
     "output_type": "stream",
     "text": [
      "Iteration 201 loss: 15813.8652343755\n",
      "Iteration 401 loss: 11816.2539062575\n",
      "Iteration 601 loss: 8878.53613281255\n",
      "Iteration 801 loss: 6882.62353515625\n",
      "Iteration 1001 loss: 4587.8847656255\n",
      "Iteration 1201 loss: 3141.453613281255\n",
      "Iteration 1401 loss: 2384.0412597656255\n",
      "Iteration 1601 loss: 1506.3929443359375\n",
      "Iteration 1801 loss: 1371.0905761718755\n",
      "Iteration 2000 loss: 1076.2847900390625"
     ]
    }
   ],
   "source": [
    "infr.run(max_iter=2000, learning_rate=1e-2, y=mx.nd.array(y), x=mx.nd.array(x), verbose=True)"
   ]
  },
  {
   "cell_type": "markdown",
   "metadata": {},
   "source": [
    "## Use prediction to visualize the resulting BNN"
   ]
  },
  {
   "cell_type": "code",
   "execution_count": 11,
   "metadata": {},
   "outputs": [],
   "source": [
    "xt = np.linspace(0,1,100)[:,None]"
   ]
  },
  {
   "cell_type": "code",
   "execution_count": 12,
   "metadata": {},
   "outputs": [],
   "source": [
    "infr2 = VariationalPosteriorForwardSampling(10, [m.x], infr, [m.r])\n",
    "res = infr2.run(x=mx.nd.array(xt))"
   ]
  },
  {
   "cell_type": "code",
   "execution_count": 13,
   "metadata": {},
   "outputs": [],
   "source": [
    "yt = res[0].asnumpy()"
   ]
  },
  {
   "cell_type": "code",
   "execution_count": 14,
   "metadata": {},
   "outputs": [
    {
     "data": {
      "text/plain": [
       "[<matplotlib.lines.Line2D at 0x10f6b75c0>]"
      ]
     },
     "execution_count": 14,
     "metadata": {},
     "output_type": "execute_result"
    },
    {
     "data": {
      "image/png": "[encoded data removed]",
      "text/plain": [
       "<Figure size 432x288 with 1 Axes>"
      ]
     },
     "metadata": {
      "needs_background": "light"
     },
     "output_type": "display_data"
    }
   ],
   "source": [
    "yt_mean = yt.mean(0)\n",
    "yt_std = yt.std(0)\n",
    "\n",
    "for i in range(yt.shape[0]):\n",
    "    plot(xt[:,0],yt[i,:,0],'k',alpha=0.2)\n",
    "plot(x[:,0],y[:,0],'.')"
   ]
  }
 ],
 "metadata": {
  "kernelspec": {
   "display_name": "Python 3",
   "language": "python",
   "name": "python3"
  },
  "language_info": {
   "codemirror_mode": {
    "name": "ipython",
    "version": 3
   },
   "file_extension": ".py",
   "mimetype": "text/x-python",
   "name": "python",
   "nbconvert_exporter": "python",
   "pygments_lexer": "ipython3",
   "version": "3.6.6"
  }
 },
 "nbformat": 4,
 "nbformat_minor": 2
}
