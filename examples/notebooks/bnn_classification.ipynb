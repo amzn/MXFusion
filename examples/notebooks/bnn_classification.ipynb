{
 "cells": [
  {
   "cell_type": "markdown",
   "metadata": {},
   "source": [
    "# Bayesian Neural Network (VI) for classification (under Development)"
   ]
  },
  {
   "cell_type": "markdown",
   "metadata": {},
   "source": [
    "```\n",
    "# Copyright 2018 Amazon.com, Inc. or its affiliates. All Rights Reserved.\n",
    "#\n",
    "#   Licensed under the Apache License, Version 2.0 (the \"License\").\n",
    "#   You may not use this file except in compliance with the License.\n",
    "#   A copy of the License is located at\n",
    "#\n",
    "#       http://www.apache.org/licenses/LICENSE-2.0\n",
    "#\n",
    "#   or in the \"license\" file accompanying this file. This file is distributed\n",
    "#   on an \"AS IS\" BASIS, WITHOUT WARRANTIES OR CONDITIONS OF ANY KIND, either\n",
    "#   express or implied. See the License for the specific language governing\n",
    "#   permissions and limitations under the License.\n",
    "# ==============================================================================\n",
    "```"
   ]
  },
  {
   "cell_type": "code",
   "execution_count": 1,
   "metadata": {},
   "outputs": [],
   "source": [
    "import warnings\n",
    "warnings.filterwarnings('ignore')\n",
    "import mxfusion as mf\n",
    "import mxnet as mx\n",
    "import numpy as np\n",
    "import mxnet.gluon.nn as nn\n",
    "import mxfusion.components\n",
    "import mxfusion.inference"
   ]
  },
  {
   "cell_type": "markdown",
   "metadata": {},
   "source": [
    "### Generate Synthetic Data"
   ]
  },
  {
   "cell_type": "code",
   "execution_count": 2,
   "metadata": {},
   "outputs": [
    {
     "data": {
      "text/plain": [
       "[<matplotlib.lines.Line2D at 0x1a2bc4aeb8>]"
      ]
     },
     "execution_count": 2,
     "metadata": {},
     "output_type": "execute_result"
    },
    {
     "data": {
      "image/png": "[encoded data removed]",
      "text/plain": [
       "<Figure size 432x288 with 1 Axes>"
      ]
     },
     "metadata": {
      "needs_background": "light"
     },
     "output_type": "display_data"
    }
   ],
   "source": [
    "import GPy\n",
    "%matplotlib inline\n",
    "from pylab import *\n",
    "\n",
    "np.random.seed(4)\n",
    "k = GPy.kern.RBF(1, lengthscale=0.1)\n",
    "x = np.random.rand(200,1)\n",
    "y = np.random.multivariate_normal(mean=np.zeros((200,)), cov=k.K(x), size=(1,)).T>0.\n",
    "plot(x[:,0], y[:,0], '.')"
   ]
  },
  {
   "cell_type": "code",
   "execution_count": 3,
   "metadata": {
    "scrolled": true
   },
   "outputs": [],
   "source": [
    "D = 10\n",
    "net = nn.HybridSequential(prefix='nn_')\n",
    "with net.name_scope():\n",
    "    net.add(nn.Dense(D, activation=\"tanh\", flatten=False, in_units=1))\n",
    "    net.add(nn.Dense(D, activation=\"tanh\", flatten=False, in_units=D))\n",
    "    net.add(nn.Dense(2, flatten=False, in_units=D))\n",
    "net.initialize(mx.init.Xavier(magnitude=1))"
   ]
  },
  {
   "cell_type": "code",
   "execution_count": 4,
   "metadata": {},
   "outputs": [],
   "source": [
    "from mxfusion.components.variables.var_trans import PositiveTransformation\n",
    "from mxfusion.inference import VariationalPosteriorForwardSampling\n",
    "from mxfusion.components.functions.operators import broadcast_to\n",
    "from mxfusion.components.distributions import Normal, Categorical\n",
    "from mxfusion import Variable, Model\n",
    "from mxfusion.components.functions import MXFusionGluonFunction"
   ]
  },
  {
   "cell_type": "code",
   "execution_count": 5,
   "metadata": {},
   "outputs": [
    {
     "name": "stdout",
     "output_type": "stream",
     "text": [
      "Model (cf188)\n",
      "Variable(ca45c) = BroadcastToOperator(data=Variable(8dec8))\n",
      "Variable(383ef) = BroadcastToOperator(data=Variable(faf0a))\n",
      "Variable(44754) ~ Normal(mean=Variable(383ef), variance=Variable(ca45c))\n",
      "Variable(03371) = BroadcastToOperator(data=Variable(ad532))\n",
      "Variable(88468) = BroadcastToOperator(data=Variable(2110c))\n",
      "Variable(84fc2) ~ Normal(mean=Variable(88468), variance=Variable(03371))\n",
      "Variable(1dc39) = BroadcastToOperator(data=Variable(f3d0f))\n",
      "Variable(77d1c) = BroadcastToOperator(data=Variable(121a5))\n",
      "Variable(4e7d9) ~ Normal(mean=Variable(77d1c), variance=Variable(1dc39))\n",
      "Variable(dbd5d) = BroadcastToOperator(data=Variable(68ad8))\n",
      "Variable(51f11) = BroadcastToOperator(data=Variable(1ac45))\n",
      "Variable(dccd6) ~ Normal(mean=Variable(51f11), variance=Variable(dbd5d))\n",
      "Variable(47fa5) = BroadcastToOperator(data=Variable(e966f))\n",
      "Variable(90359) = BroadcastToOperator(data=Variable(f19f8))\n",
      "Variable(daaa7) ~ Normal(mean=Variable(90359), variance=Variable(47fa5))\n",
      "Variable(c310f) = BroadcastToOperator(data=Variable(1378f))\n",
      "Variable(a21a3) = BroadcastToOperator(data=Variable(91998))\n",
      "Variable(44c15) ~ Normal(mean=Variable(a21a3), variance=Variable(c310f))\n",
      "r = GluonFunctionEvaluation(nn_input_0=x, nn_dense0_weight=Variable(44c15), nn_dense0_bias=Variable(daaa7), nn_dense1_weight=Variable(dccd6), nn_dense1_bias=Variable(4e7d9), nn_dense2_weight=Variable(84fc2), nn_dense2_bias=Variable(44754))\n",
      "y ~ Categorical(log_prob=r)\n"
     ]
    }
   ],
   "source": [
    "m = Model()\n",
    "m.N = Variable()\n",
    "m.f = MXFusionGluonFunction(net, num_outputs=1, broadcastable=False)\n",
    "m.x = Variable(shape=(m.N,1))\n",
    "m.r = m.f(m.x)\n",
    "for _,v in m.r.factor.parameters.items():\n",
    "    v.set_prior(Normal(mean=broadcast_to(mx.nd.array([0]), v.shape),\n",
    "                       variance=broadcast_to(mx.nd.array([1.]), v.shape)))\n",
    "m.y = Categorical.define_variable(log_prob=m.r, shape=(m.N,1), num_classes=2)\n",
    "print(m)"
   ]
  },
  {
   "cell_type": "code",
   "execution_count": 6,
   "metadata": {},
   "outputs": [],
   "source": [
    "from mxfusion.inference import BatchInferenceLoop, create_Gaussian_meanfield, GradBasedInference, StochasticVariationalInference, MAP"
   ]
  },
  {
   "cell_type": "code",
   "execution_count": 7,
   "metadata": {},
   "outputs": [],
   "source": [
    "observed = [m.y, m.x]\n",
    "q = create_Gaussian_meanfield(model=m, observed=observed)\n",
    "alg = StochasticVariationalInference(num_samples=5, model=m, posterior=q, observed=observed)\n",
    "infr = GradBasedInference(inference_algorithm=alg, grad_loop=BatchInferenceLoop())"
   ]
  },
  {
   "cell_type": "code",
   "execution_count": 8,
   "metadata": {},
   "outputs": [],
   "source": [
    "infr.initialize(y=mx.nd.array(y), x=mx.nd.array(x))"
   ]
  },
  {
   "cell_type": "code",
   "execution_count": 9,
   "metadata": {},
   "outputs": [],
   "source": [
    "for v_name, v in m.r.factor.parameters.items():\n",
    "    infr.params[q[v].factor.mean] = net.collect_params()[v_name].data()\n",
    "    infr.params[q[v].factor.variance] = mx.nd.ones_like(infr.params[q[v].factor.variance])*1e-6"
   ]
  },
  {
   "cell_type": "code",
   "execution_count": 10,
   "metadata": {
    "scrolled": true
   },
   "outputs": [
    {
     "name": "stdout",
     "output_type": "stream",
     "text": [
      "Iteration 51 loss: 661.41601562593755\n",
      "Iteration 101 loss: 301.83178710937525\n",
      "Iteration 151 loss: 166.81152343757812\n",
      "Iteration 201 loss: 159.75297546386725\n",
      "Iteration 251 loss: 154.61776733398438\n",
      "Iteration 301 loss: 147.10989379882812\n",
      "Iteration 351 loss: 153.09896850585938\n",
      "Iteration 401 loss: 131.58213806152344\n",
      "Iteration 451 loss: 147.08862304687556\n",
      "Iteration 500 loss: 136.80494689941406"
     ]
    }
   ],
   "source": [
    "infr.run(max_iter=500, learning_rate=1e-1, y=mx.nd.array(y), x=mx.nd.array(x), verbose=True)"
   ]
  },
  {
   "cell_type": "code",
   "execution_count": 11,
   "metadata": {
    "scrolled": false
   },
   "outputs": [],
   "source": [
    "# for uuid, v in infr.inference_algorithm.posterior.variables.items():\n",
    "#     if uuid in infr.params.param_dict:\n",
    "#         print(v.name, infr.params[v])"
   ]
  },
  {
   "cell_type": "code",
   "execution_count": 12,
   "metadata": {},
   "outputs": [],
   "source": [
    "xt = np.linspace(0,1,100)[:,None]"
   ]
  },
  {
   "cell_type": "code",
   "execution_count": 13,
   "metadata": {},
   "outputs": [],
   "source": [
    "infr2 = VariationalPosteriorForwardSampling(10, [m.x], infr, [m.r])\n",
    "res = infr2.run(x=mx.nd.array(xt))"
   ]
  },
  {
   "cell_type": "code",
   "execution_count": 14,
   "metadata": {},
   "outputs": [],
   "source": [
    "yt = res[0].asnumpy()"
   ]
  },
  {
   "cell_type": "code",
   "execution_count": 15,
   "metadata": {},
   "outputs": [
    {
     "data": {
      "text/plain": [
       "[<matplotlib.lines.Line2D at 0x1a2d368ac8>]"
      ]
     },
     "execution_count": 15,
     "metadata": {},
     "output_type": "execute_result"
    },
    {
     "data": {
      "image/png": "[encoded data removed]",
      "text/plain": [
       "<Figure size 432x288 with 1 Axes>"
      ]
     },
     "metadata": {
      "needs_background": "light"
     },
     "output_type": "display_data"
    }
   ],
   "source": [
    "yt_mean = yt.mean(0)\n",
    "yt_std = yt.std(0)\n",
    "for i in range(yt.shape[0]):\n",
    "    plot(xt[:,0],1./(1+np.exp(yt[i,:,0]-yt[i,:,1])),'k',alpha=0.2)\n",
    "plot(x[:,0],y[:,0],'.')"
   ]
  }
 ],
 "metadata": {
  "kernelspec": {
   "display_name": "Python 3",
   "language": "python",
   "name": "python3"
  },
  "language_info": {
   "codemirror_mode": {
    "name": "ipython",
    "version": 3
   },
   "file_extension": ".py",
   "mimetype": "text/x-python",
   "name": "python",
   "nbconvert_exporter": "python",
   "pygments_lexer": "ipython3",
   "version": "3.6.6"
  }
 },
 "nbformat": 4,
 "nbformat_minor": 2
}
