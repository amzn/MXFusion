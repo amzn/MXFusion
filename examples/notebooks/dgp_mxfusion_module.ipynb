{
 "cells": [
  {
   "cell_type": "markdown",
   "metadata": {},
   "source": [
    "# Deep Gaussian Process Regression Model\n",
    "\n",
    "This notebook demonstrates the use of a deep GP model in MXFusion."
   ]
  },
  {
   "cell_type": "code",
   "execution_count": 1,
   "metadata": {},
   "outputs": [
    {
     "name": "stderr",
     "output_type": "stream",
     "text": [
      "/Users/marpulli/anaconda3/lib/python3.6/site-packages/h5py/__init__.py:36: FutureWarning: Conversion of the second argument of issubdtype from `float` to `np.floating` is deprecated. In future, it will be treated as `np.float64 == np.dtype(float).type`.\n",
      "  from ._conv import register_converters as _register_converters\n"
     ]
    }
   ],
   "source": [
    "import mxfusion\n",
    "import numpy as np\n",
    "from mxfusion.common import config\n",
    "config.DEFAULT_DTYPE = 'float64'\n",
    "\n",
    "d_layer_2 = 1"
   ]
  },
  {
   "cell_type": "code",
   "execution_count": 2,
   "metadata": {},
   "outputs": [],
   "source": [
    "N = 50 # training size\n",
    "X = np.linspace(-5, 5, N)[:, None]\n",
    "Y = (X > 0).astype(float)"
   ]
  },
  {
   "cell_type": "markdown",
   "metadata": {},
   "source": [
    "# gpflow model"
   ]
  },
  {
   "cell_type": "code",
   "execution_count": 3,
   "metadata": {},
   "outputs": [
    {
     "name": "stderr",
     "output_type": "stream",
     "text": [
      "/Users/marpulli/anaconda3/lib/python3.6/site-packages/multipledispatch/dispatcher.py:24: AmbiguityWarning: \n",
      "Ambiguities exist in dispatched function _expectation\n",
      "\n",
      "The following signatures may result in ambiguous behavior:\n",
      "\t[Gaussian, Identity, NoneType, Kernel, InducingPoints], [Gaussian, Linear, NoneType, Sum, InducingPoints]\n",
      "\n",
      "\n",
      "Consider making the following additions:\n",
      "\n",
      "@dispatch(Gaussian, Identity, NoneType, Sum, InducingPoints)\n",
      "def _expectation(...)\n",
      "  warn(warning_text(dispatcher.name, ambiguities), AmbiguityWarning)\n"
     ]
    }
   ],
   "source": [
    "from gpflow.kernels import RBF, White\n",
    "from gpflow.likelihoods import Gaussian\n",
    "from doubly_stochastic_dgp.dgp import DGP\n",
    "def make_gpflow_model(X, Y, Z, L):\n",
    "    D = X.shape[1]\n",
    "    # the layer shapes are defined by the kernel dims, so here all hidden layers are D dimensional \n",
    "    kernels = []\n",
    "    kernels.append(RBF(1))\n",
    "    kernels.append(RBF(d_layer_2))\n",
    "\n",
    "    # between layer noise (doesn't actually make much difference but we include it anyway)\n",
    "    #for kernel in kernels[:-1]:\n",
    "    #    kernel += White(D, variance=1e-5) \n",
    "\n",
    "    mb = 1000 if X.shape[0] > 1000 else None\n",
    "    print(X.shape)\n",
    "    print(Y.shape)\n",
    "    print(Z.shape)\n",
    "    model = DGP(X, Y, Z, kernels, Gaussian(), num_samples=200, minibatch_size=mb)\n",
    "    return model"
   ]
  },
  {
   "cell_type": "code",
   "execution_count": null,
   "metadata": {},
   "outputs": [],
   "source": [
    "from gpflow.training import AdamOptimizer\n",
    "dgp = make_gpflow_model(X, Y, np.linspace(-5, 5, 10)[:, None], 2)"
   ]
  },
  {
   "cell_type": "code",
   "execution_count": 25,
   "metadata": {
    "scrolled": false
   },
   "outputs": [
    {
     "name": "stdout",
     "output_type": "stream",
     "text": [
      "CPU times: user 8.22 s, sys: 516 ms, total: 8.73 s\n",
      "Wall time: 5.25 s\n"
     ]
    }
   ],
   "source": [
    "%%time\n",
    "AdamOptimizer(0.01).minimize(dgp, maxiter=200)"
   ]
  },
  {
   "cell_type": "code",
   "execution_count": 5,
   "metadata": {},
   "outputs": [],
   "source": [
    "xt = np.linspace(-10, 10,200)[:, None]\n",
    "\n",
    "dgp_mean_s, v = dgp.predict_f(xt, 500)\n",
    "dgp_mean = dgp_mean_s.mean(axis=0)[:, 0]\n",
    "std = np.sqrt(v.mean(axis=0))[:, 0] # + dgp_mean_s.var(axis=0))[:, 0]"
   ]
  },
  {
   "cell_type": "code",
   "execution_count": 6,
   "metadata": {},
   "outputs": [
    {
     "data": {
      "text/plain": [
       "<Figure size 1200x800 with 1 Axes>"
      ]
     },
     "metadata": {},
     "output_type": "display_data"
    }
   ],
   "source": [
    "import matplotlib.pyplot as plt\n",
    "plt.figure(figsize=(12, 8))\n",
    "plt.plot(xt, dgp_mean)\n",
    "plt.fill_between(xt[:, 0], dgp_mean-std, dgp_mean+std, alpha=0.1)\n",
    "plt.scatter(X, Y)\n",
    "plt.show()"
   ]
  },
  {
   "cell_type": "markdown",
   "metadata": {},
   "source": [
    "# MXFusion model from gpflow params"
   ]
  },
  {
   "cell_type": "code",
   "execution_count": 7,
   "metadata": {},
   "outputs": [
    {
     "data": {
      "text/plain": [
       "(10, 1)"
      ]
     },
     "execution_count": 7,
     "metadata": {},
     "output_type": "execute_result"
    }
   ],
   "source": [
    "if d_layer_2 == 2:\n",
    "    z_2 = np.stack([np.linspace(-5, 5, 10), np.linspace(-5, 5, 10)], axis=1)\n",
    "else:\n",
    "    z_2 = np.linspace(-5, 5, 10)[:, None]\n",
    "    \n",
    "z_2.shape"
   ]
  },
  {
   "cell_type": "code",
   "execution_count": 8,
   "metadata": {},
   "outputs": [],
   "source": [
    "\n",
    "import mxnet as mx\n",
    "import mxfusion.components.distributions.gp.kernels\n",
    "from mxfusion.components.variables import PositiveTransformation\n",
    "from mxfusion.modules.gp_modules.dgp import DeepGPRegression\n",
    "\n",
    "\n",
    "M = 10\n",
    "m = mxfusion.Model()\n",
    "m.N = mxfusion.Variable()\n",
    "m.X = mxfusion.Variable(shape=(m.N, 1))\n",
    "m.Z_0 = mxfusion.Variable(shape=(M, 1), initial_value=mx.nd.array(np.linspace(-5, 5, 10)[:, None]))\n",
    "m.Z_1 = mxfusion.Variable(shape=(M, d_layer_2), initial_value=mx.nd.array(z_2))\n",
    "m.noise_var = mxfusion.Variable(transformation=PositiveTransformation())\n",
    "kernels = [mxfusion.distributions.gp.kernels.RBF(1), mxfusion.distributions.gp.kernels.RBF(d_layer_2)]\n",
    "m.Y = DeepGPRegression.define_variable(m.X, kernels, m.noise_var, shape=(m.N, 1), inducing_inputs=[m.Z_0, m.Z_1], n_samples=200)"
   ]
  },
  {
   "cell_type": "code",
   "execution_count": 9,
   "metadata": {},
   "outputs": [],
   "source": [
    "post = m.Y.factor._extra_graphs[0]"
   ]
  },
  {
   "cell_type": "code",
   "execution_count": 10,
   "metadata": {},
   "outputs": [
    {
     "name": "stderr",
     "output_type": "stream",
     "text": [
      "/Users/marpulli/git/MXFusion/mxfusion/inference/inference_parameters.py:74: UserWarning: InferenceParameters has already been initialized.  The existing one will be overwritten.\n",
      "  warnings.warn(\"InferenceParameters has already been initialized.  The existing one will be overwritten.\")\n"
     ]
    }
   ],
   "source": [
    "from mxfusion.inference import Inference, MAP\n",
    "from mxfusion.inference import TransferInference, ModulePredictionAlgorithm\n",
    "dtype = 'float64'\n",
    "infr = Inference(MAP(model=m, observed=[m.X, m.Y]), dtype=dtype)\n",
    "infr.initialize(X=X.shape, Y=Y.shape)\n",
    "\n",
    "# inducing locations\n",
    "infr.params[m.Z_0] = dgp.layers[0].feature.Z.value\n",
    "infr.params[m.Z_1] = dgp.layers[1].feature.Z.value"
   ]
  },
  {
   "cell_type": "code",
   "execution_count": 11,
   "metadata": {},
   "outputs": [],
   "source": [
    "# variational mean\n",
    "infr.params[post.qU_mean_0] = dgp.layers[0].q_mu.value\n",
    "infr.params[post.qU_mean_1] = dgp.layers[1].q_mu.value"
   ]
  },
  {
   "cell_type": "code",
   "execution_count": 12,
   "metadata": {},
   "outputs": [],
   "source": [
    "# variational cov\n",
    "infr.params[post.qU_cov_W_0] = dgp.layers[0].q_sqrt.value\n",
    "infr.params[post.qU_cov_W_1] = dgp.layers[1].q_sqrt.value\n",
    "\n",
    "infr.params[post.qU_cov_diag_0] = mx.nd.zeros((d_layer_2, 10))\n",
    "infr.params[post.qU_cov_diag_1] = mx.nd.zeros((1, 10))"
   ]
  },
  {
   "cell_type": "code",
   "execution_count": 13,
   "metadata": {},
   "outputs": [],
   "source": [
    "# likelihood\n",
    "infr.params[m.noise_var] = mx.nd.array(dgp.likelihood.likelihood.variance.value[None])"
   ]
  },
  {
   "cell_type": "code",
   "execution_count": 14,
   "metadata": {},
   "outputs": [],
   "source": [
    "# kernels\n",
    "infr.params[kernels[0].lengthscale] = mx.nd.array(dgp.layers[0].kern.lengthscales.value[None])\n",
    "infr.params[kernels[1].lengthscale] = mx.nd.array(dgp.layers[1].kern.lengthscales.value[None])\n",
    "\n",
    "infr.params[kernels[0].variance] = mx.nd.array(dgp.layers[0].kern.variance.value[None])\n",
    "infr.params[kernels[1].variance] = mx.nd.array(dgp.layers[1].kern.variance.value[None])"
   ]
  },
  {
   "cell_type": "code",
   "execution_count": 15,
   "metadata": {
    "scrolled": false
   },
   "outputs": [
    {
     "name": "stderr",
     "output_type": "stream",
     "text": [
      "/Users/marpulli/git/MXFusion/mxfusion/inference/inference.py:155: UserWarning: Trying to initialize the inference twice, skipping.\n",
      "  warnings.warn(\"Trying to initialize the inference twice, skipping.\")\n"
     ]
    }
   ],
   "source": [
    "m.Y.factor.dgp_log_pdf.verbose = True\n",
    "loss, _ = infr.run(X=mx.nd.array(X, dtype=dtype), Y=mx.nd.array(Y, dtype=dtype))"
   ]
  },
  {
   "cell_type": "code",
   "execution_count": 16,
   "metadata": {},
   "outputs": [
    {
     "name": "stderr",
     "output_type": "stream",
     "text": [
      "/Users/marpulli/git/MXFusion/mxfusion/inference/inference_parameters.py:74: UserWarning: InferenceParameters has already been initialized.  The existing one will be overwritten.\n",
      "  warnings.warn(\"InferenceParameters has already been initialized.  The existing one will be overwritten.\")\n"
     ]
    },
    {
     "data": {
      "image/png": "[encoded data removed]",
      "text/plain": [
       "<Figure size 864x576 with 1 Axes>"
      ]
     },
     "metadata": {},
     "output_type": "display_data"
    }
   ],
   "source": [
    "from mxfusion.inference import TransferInference, ModulePredictionAlgorithm\n",
    "infr_pred = TransferInference(ModulePredictionAlgorithm(model=m, observed=[m.X], target_variables=[m.Y]), \n",
    "                              infr_params=infr.params)\n",
    "\n",
    "res = infr_pred.run(X=mx.nd.array(xt, dtype='float64'))[0]\n",
    "f_mean, f_var = res[0].asnumpy()[0], res[1].asnumpy()[0]\n",
    "\n",
    "import matplotlib.pyplot as plt\n",
    "plt.figure(figsize=(12, 8))\n",
    "\n",
    "mean = res[0].asnumpy()[:, 0]\n",
    "plt.plot(xt, res[0].asnumpy())\n",
    "\n",
    "std = np.sqrt(res[1].asnumpy())[:, 0]\n",
    "plt.fill_between(xt[:, 0], mean - std, mean + std, alpha=0.1)\n",
    "plt.scatter(X, Y)\n",
    "\n",
    "plt.plot(xt, dgp_mean)\n",
    "plt.fill_between(xt[:, 0], dgp_mean-std, dgp_mean+std, alpha=0.1)\n",
    "plt.show()"
   ]
  },
  {
   "cell_type": "markdown",
   "metadata": {},
   "source": [
    "# MXFusion model training"
   ]
  },
  {
   "cell_type": "code",
   "execution_count": 21,
   "metadata": {},
   "outputs": [],
   "source": [
    "import mxnet as mx\n",
    "import mxfusion.components.distributions.gp.kernels\n",
    "from mxfusion.components.variables import PositiveTransformation\n",
    "from mxfusion.modules.gp_modules.dgp import DeepGPRegression\n",
    "\n",
    "M = 10\n",
    "m = mxfusion.Model()\n",
    "m.N = mxfusion.Variable()\n",
    "m.X = mxfusion.Variable(shape=(m.N, 1))\n",
    "m.Z_0 = mxfusion.Variable(shape=(M, 1), initial_value=mx.nd.array(np.linspace(-5, 5, 10)[:, None]))\n",
    "m.Z_1 = mxfusion.Variable(shape=(M, 1), initial_value=mx.nd.array(np.linspace(-5, 5, 10)[:, None]))\n",
    "m.noise_var = mxfusion.Variable(transformation=PositiveTransformation())\n",
    "kernels = [mxfusion.distributions.gp.kernels.RBF(1), mxfusion.distributions.gp.kernels.RBF(1)]\n",
    "m.Y = DeepGPRegression.define_variable(m.X, kernels, m.noise_var, shape=(m.N, 1), inducing_inputs=[m.Z_0, m.Z_1], n_samples=250)"
   ]
  },
  {
   "cell_type": "code",
   "execution_count": 22,
   "metadata": {},
   "outputs": [],
   "source": [
    "%load_ext line_profiler"
   ]
  },
  {
   "cell_type": "code",
   "execution_count": 23,
   "metadata": {},
   "outputs": [],
   "source": [
    "import mxnet as mx\n",
    "from mxfusion.inference import GradBasedInference, MAP\n",
    "\n",
    "infr = GradBasedInference(inference_algorithm=MAP(model=m, observed=[m.X, m.Y]))\n"
   ]
  },
  {
   "cell_type": "code",
   "execution_count": 27,
   "metadata": {},
   "outputs": [
    {
     "name": "stderr",
     "output_type": "stream",
     "text": [
      "/Users/marpulli/git/MXFusion/mxfusion/inference/inference.py:155: UserWarning: Trying to initialize the inference twice, skipping.\n",
      "  warnings.warn(\"Trying to initialize the inference twice, skipping.\")\n"
     ]
    },
    {
     "name": "stdout",
     "output_type": "stream",
     "text": [
      "Iteration 21 loss: 52.517782066345325\n",
      "Iteration 41 loss: 48.291946714300714\n",
      "Iteration 61 loss: 43.945483171096115\n",
      "Iteration 81 loss: 39.418918367877825\n",
      "Iteration 101 loss: 35.012818714024775\n",
      "Iteration 121 loss: 30.566738251952945\n",
      "Iteration 141 loss: 26.244094471535618\n",
      "Iteration 161 loss: 21.920323135635698\n",
      "Iteration 181 loss: 17.893331206929467\n",
      "Iteration 200 loss: 13.719616920595893CPU times: user 10.2 s, sys: 684 ms, total: 10.8 s\n",
      "Wall time: 6.99 s\n"
     ]
    }
   ],
   "source": [
    "%%time\n",
    "infr.run(X=mx.nd.array(X, dtype='float64'), Y=mx.nd.array(Y, dtype='float64'), max_iter=200, learning_rate=0.01, verbose=True)"
   ]
  },
  {
   "cell_type": "code",
   "execution_count": null,
   "metadata": {},
   "outputs": [],
   "source": [
    "infr_pred = TransferInference(ModulePredictionAlgorithm(model=m, observed=[m.X], target_variables=[m.Y]), \n",
    "                              infr_params=infr.params)\n",
    "\n",
    "res = infr_pred.run(X=mx.nd.array(xt, dtype='float64'))[0]\n",
    "f_mean, f_var = res[0].asnumpy()[0], res[1].asnumpy()[0]\n",
    "\n",
    "import matplotlib.pyplot as plt\n",
    "plt.figure(figsize=(12, 8))\n",
    "\n",
    "mean = res[0].asnumpy()[:, 0]\n",
    "plt.plot(xt, res[0].asnumpy())\n",
    "\n",
    "std = np.sqrt(res[1].asnumpy())[:, 0]\n",
    "plt.fill_between(xt[:, 0], mean - std, mean + std, alpha=0.1)\n",
    "plt.scatter(X, Y)"
   ]
  }
 ],
 "metadata": {
  "kernelspec": {
   "display_name": "Python 3",
   "language": "python",
   "name": "python3"
  },
  "language_info": {
   "codemirror_mode": {
    "name": "ipython",
    "version": 3
   },
   "file_extension": ".py",
   "mimetype": "text/x-python",
   "name": "python",
   "nbconvert_exporter": "python",
   "pygments_lexer": "ipython3",
   "version": "3.6.6"
  }
 },
 "nbformat": 4,
 "nbformat_minor": 2
}
