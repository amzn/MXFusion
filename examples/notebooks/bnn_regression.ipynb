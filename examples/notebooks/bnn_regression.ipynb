{
 "cells": [
  {
   "cell_type": "markdown",
   "metadata": {},
   "source": [
    "# Bayesian Neural Network (VI) for regression\n",
    "\n",
    "### Zhenwen Dai (2018-8-21)"
   ]
  },
  {
   "cell_type": "code",
   "execution_count": 1,
   "metadata": {},
   "outputs": [],
   "source": [
    "import warnings\n",
    "warnings.filterwarnings('ignore')\n",
    "import mxfusion as mf\n",
    "import mxnet as mx\n",
    "import numpy as np\n",
    "import mxnet.gluon.nn as nn\n",
    "import mxfusion.components\n",
    "import mxfusion.inference"
   ]
  },
  {
   "cell_type": "markdown",
   "metadata": {},
   "source": [
    "### Generate Synthetic Data"
   ]
  },
  {
   "cell_type": "code",
   "execution_count": 2,
   "metadata": {},
   "outputs": [
    {
     "data": {
      "text/plain": [
       "[<matplotlib.lines.Line2D at 0x10b5d3710>]"
      ]
     },
     "execution_count": 2,
     "metadata": {},
     "output_type": "execute_result"
    },
    {
     "data": {
      "image/png": "[encoded data removed]",
      "text/plain": [
       "<Figure size 432x288 with 1 Axes>"
      ]
     },
     "metadata": {},
     "output_type": "display_data"
    }
   ],
   "source": [
    "import GPy\n",
    "%matplotlib inline\n",
    "from pylab import *\n",
    "\n",
    "np.random.seed(0)\n",
    "k = GPy.kern.RBF(1, lengthscale=0.1)\n",
    "x = np.random.rand(1000,1)\n",
    "y = np.random.multivariate_normal(mean=np.zeros((1000,)), cov=k.K(x), size=(1,)).T\n",
    "plot(x[:,0], y[:,0], '.')"
   ]
  },
  {
   "cell_type": "markdown",
   "metadata": {},
   "source": [
    "## Model definition"
   ]
  },
  {
   "cell_type": "code",
   "execution_count": 3,
   "metadata": {
    "scrolled": true
   },
   "outputs": [],
   "source": [
    "D = 50\n",
    "net = nn.HybridSequential(prefix='nn_')\n",
    "with net.name_scope():\n",
    "    net.add(nn.Dense(D, activation=\"tanh\"))\n",
    "    net.add(nn.Dense(D, activation=\"tanh\"))\n",
    "    net.add(nn.Dense(1, flatten=True))\n",
    "net.initialize(mx.init.Xavier(magnitude=3))\n",
    "_=net(mx.nd.array(x))"
   ]
  },
  {
   "cell_type": "code",
   "execution_count": 4,
   "metadata": {},
   "outputs": [],
   "source": [
    "from mxfusion.components.variables.var_trans import PositiveTransformation\n",
    "from mxfusion.inference import VariationalPosteriorForwardSampling"
   ]
  },
  {
   "cell_type": "code",
   "execution_count": 5,
   "metadata": {},
   "outputs": [
    {
     "name": "stdout",
     "output_type": "stream",
     "text": [
      "Variable(746e9) ~ Normal(mean=Variable(15143), variance=Variable(e7a3a))\n",
      "Variable(adf9f) ~ Normal(mean=Variable(dfd4f), variance=Variable(65d0f))\n",
      "Variable(f6028) ~ Normal(mean=Variable(7d834), variance=Variable(57cde))\n",
      "Variable(0f787) ~ Normal(mean=Variable(5a470), variance=Variable(9ed1d))\n",
      "Variable(707d8) ~ Normal(mean=Variable(0fb74), variance=Variable(b9249))\n",
      "Variable(5868e) ~ Normal(mean=Variable(5f168), variance=Variable(9986c))\n",
      "r = GluonFunctionEvaluation(nn_input_0=x, nn_dense0_weight=Variable(5868e), nn_dense0_bias=Variable(707d8), nn_dense1_weight=Variable(0f787), nn_dense1_bias=Variable(f6028), nn_dense2_weight=Variable(adf9f), nn_dense2_bias=Variable(746e9))\n",
      "y ~ Normal(mean=r, variance=v)\n"
     ]
    }
   ],
   "source": [
    "m = mf.Model()\n",
    "m.N = mf.Variable()\n",
    "m.f = mf.functions.MXFusionGluonFunction(net, num_outputs=1,broadcastable=False)\n",
    "m.x = mf.Variable(shape=(m.N,1))\n",
    "m.v = mf.Variable(shape=(1,), transformation=PositiveTransformation(), initial_value=mx.nd.array([0.01]))\n",
    "#m.prior_variance = mf.core.Variable(shape=(1,), transformation=PositiveTransformation())\n",
    "m.r = m.f(m.x)\n",
    "for v in m.r.factor.parameters.values():\n",
    "    v.set_prior(mf.components.distributions.Normal(mean=mx.nd.array([0]),variance=mx.nd.array([1.])))\n",
    "m.y = mf.distributions.Normal.define_variable(mean=m.r, variance=m.v, shape=(m.N,1))\n",
    "print(m)"
   ]
  },
  {
   "cell_type": "markdown",
   "metadata": {},
   "source": [
    "## Inference with Meanfield"
   ]
  },
  {
   "cell_type": "code",
   "execution_count": 6,
   "metadata": {},
   "outputs": [],
   "source": [
    "from mxfusion.inference import BatchInferenceLoop, create_Gaussian_meanfield, GradBasedInference, StochasticVariationalInference"
   ]
  },
  {
   "cell_type": "code",
   "execution_count": 7,
   "metadata": {},
   "outputs": [],
   "source": [
    "observed = [m.y, m.x]\n",
    "q = create_Gaussian_meanfield(model=m, observed=observed)\n",
    "alg = StochasticVariationalInference(num_samples=3, model=m, posterior=q, observed=observed)\n",
    "infr = GradBasedInference(inference_algorithm=alg, grad_loop=BatchInferenceLoop())"
   ]
  },
  {
   "cell_type": "code",
   "execution_count": 8,
   "metadata": {},
   "outputs": [],
   "source": [
    "infr.initialize(y=mx.nd.array(y), x=mx.nd.array(x))"
   ]
  },
  {
   "cell_type": "code",
   "execution_count": 9,
   "metadata": {},
   "outputs": [],
   "source": [
    "for v_name, v in m.r.factor.parameters.items():\n",
    "    uuid = v.uuid\n",
    "    loc_uuid = infr.inference_algorithm.posterior[uuid].factor.variance.uuid\n",
    "    a = infr.params.param_dict[loc_uuid].data().asnumpy()\n",
    "    a[:] = 1e-6\n",
    "    infr.params[infr.inference_algorithm.posterior[uuid].factor.mean] = net.collect_params()[v_name].data()\n",
    "    infr.params[infr.inference_algorithm.posterior[uuid].factor.variance] = mx.nd.array(a)"
   ]
  },
  {
   "cell_type": "code",
   "execution_count": 10,
   "metadata": {
    "scrolled": true
   },
   "outputs": [
    {
     "name": "stdout",
     "output_type": "stream",
     "text": [
      "Iteration 201 loss: 15813.8652343755\n",
      "Iteration 401 loss: 11816.2539062575\n",
      "Iteration 601 loss: 8878.53613281255\n",
      "Iteration 801 loss: 6882.62304687555\n",
      "Iteration 1001 loss: 4587.88476562575\n",
      "Iteration 1201 loss: 3141.454101562575\n",
      "Iteration 1401 loss: 2384.041748046875\n",
      "Iteration 1601 loss: 1506.3939208984375\n",
      "Iteration 1801 loss: 1371.0895996093755\n",
      "Iteration 2000 loss: 1076.2845458984375"
     ]
    }
   ],
   "source": [
    "infr.run(max_iter=2000, learning_rate=1e-2, y=mx.nd.array(y), x=mx.nd.array(x), verbose=True)"
   ]
  },
  {
   "cell_type": "markdown",
   "metadata": {},
   "source": [
    "## Use prediction to visualize the resulting BNN"
   ]
  },
  {
   "cell_type": "code",
   "execution_count": 11,
   "metadata": {},
   "outputs": [],
   "source": [
    "xt = np.linspace(0,1,100)[:,None]"
   ]
  },
  {
   "cell_type": "code",
   "execution_count": 12,
   "metadata": {},
   "outputs": [],
   "source": [
    "infr2 = VariationalPosteriorForwardSampling(10, [m.x], infr, [m.r])\n",
    "res = infr2.run(x=mx.nd.array(xt))"
   ]
  },
  {
   "cell_type": "code",
   "execution_count": 13,
   "metadata": {},
   "outputs": [],
   "source": [
    "yt = res[m.r].asnumpy()"
   ]
  },
  {
   "cell_type": "code",
   "execution_count": 14,
   "metadata": {},
   "outputs": [
    {
     "data": {
      "text/plain": [
       "[<matplotlib.lines.Line2D at 0x10c2593c8>]"
      ]
     },
     "execution_count": 14,
     "metadata": {},
     "output_type": "execute_result"
    },
    {
     "data": {
      "image/png": "[encoded data removed]",
      "text/plain": [
       "<Figure size 432x288 with 1 Axes>"
      ]
     },
     "metadata": {},
     "output_type": "display_data"
    }
   ],
   "source": [
    "yt_mean = yt.mean(0)\n",
    "yt_std = yt.std(0)\n",
    "\n",
    "for i in range(yt.shape[0]):\n",
    "    plot(xt[:,0],yt[i,:,0],'k',alpha=0.2)\n",
    "plot(x[:,0],y[:,0],'.')"
   ]
  }
 ],
 "metadata": {
  "kernelspec": {
   "display_name": "Python 3",
   "language": "python",
   "name": "python3"
  },
  "language_info": {
   "codemirror_mode": {
    "name": "ipython",
    "version": 3
   },
   "file_extension": ".py",
   "mimetype": "text/x-python",
   "name": "python",
   "nbconvert_exporter": "python",
   "pygments_lexer": "ipython3",
   "version": "3.6.5"
  }
 },
 "nbformat": 4,
 "nbformat_minor": 2
}
