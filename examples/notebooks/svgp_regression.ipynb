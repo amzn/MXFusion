{
 "cells": [
  {
   "cell_type": "markdown",
   "metadata": {},
   "source": [
    "# Stochastic Variational Gaussian Process Regression\n",
    "\n",
    "**Zhenwen Dai (2019-05-29)**"
   ]
  },
  {
   "cell_type": "markdown",
   "metadata": {},
   "source": [
    "## Introduction\n",
    "\n",
    "Gaussian process (GP) is computationally expensive. A popular approach to scale up GP regression on large data is to use stochastic variational inference with mini-batch training (Hensman et al., 2013). SVGP regression with Gaussian noise has been implemented as a module in MXFusion."
   ]
  },
  {
   "cell_type": "code",
   "execution_count": 32,
   "metadata": {},
   "outputs": [],
   "source": [
    "import warnings\n",
    "warnings.filterwarnings('ignore')\n",
    "import os\n",
    "os.environ['MXNET_ENGINE_TYPE'] = 'NaiveEngine'"
   ]
  },
  {
   "cell_type": "markdown",
   "metadata": {},
   "source": [
    "## Toy data\n",
    "\n",
    "We generate some synthetic data for our regression example. The data set is generate from a sine function with some additive Gaussian noise. "
   ]
  },
  {
   "cell_type": "code",
   "execution_count": 2,
   "metadata": {},
   "outputs": [],
   "source": [
    "import numpy as np\n",
    "%matplotlib inline\n",
    "from pylab import *\n",
    "\n",
    "np.random.seed(0)\n",
    "X = np.random.uniform(-3.,3.,(1000,1))\n",
    "Y = np.sin(X) + np.random.randn(1000,1)*0.05"
   ]
  },
  {
   "cell_type": "markdown",
   "metadata": {},
   "source": [
    "The generated data are visualized as follows:"
   ]
  },
  {
   "cell_type": "code",
   "execution_count": 3,
   "metadata": {},
   "outputs": [
    {
     "data": {
      "image/png": "[encoded data removed]",
      "text/plain": [
       "<Figure size 432x288 with 1 Axes>"
      ]
     },
     "metadata": {
      "needs_background": "light"
     },
     "output_type": "display_data"
    }
   ],
   "source": [
    "plot(X, Y, 'rx', label='data points')\n",
    "_=legend()"
   ]
  },
  {
   "cell_type": "code",
   "execution_count": 4,
   "metadata": {},
   "outputs": [],
   "source": [
    "from mxfusion.common import config\n",
    "config.DEFAULT_DTYPE = 'float64'"
   ]
  },
  {
   "cell_type": "markdown",
   "metadata": {},
   "source": [
    "The SVGP regression model is created as follow. Two SVGP specific parameters are ```num_inducing``` which specifies the number of inducing points used in the variational sparse GP approximation and ```svgp_log_pdf.jitter``` which the jitter term in the log pdf calculation for numerical robustness. "
   ]
  },
  {
   "cell_type": "code",
   "execution_count": 33,
   "metadata": {},
   "outputs": [],
   "source": [
    "from mxfusion import Model, Variable\n",
    "from mxfusion.components.variables import PositiveTransformation\n",
    "from mxfusion.components.distributions.gp.kernels import RBF\n",
    "from mxfusion.modules.gp_modules import SVGPRegression\n",
    "\n",
    "m = Model()\n",
    "m.N = Variable()\n",
    "m.X = Variable(shape=(m.N, 1))\n",
    "m.noise_var = Variable(shape=(1,), transformation=PositiveTransformation(), initial_value=0.01)\n",
    "m.kernel = RBF(input_dim=1, variance=1, lengthscale=1)\n",
    "m.Y = SVGPRegression.define_variable(X=m.X, kernel=m.kernel, noise_var=m.noise_var, shape=(m.N, 1), num_inducing=20)\n",
    "m.Y.factor.svgp_log_pdf.jitter = 1e-6"
   ]
  },
  {
   "cell_type": "markdown",
   "metadata": {},
   "source": [
    "Inference is done by creating the inference instance from the ```GradBasedInference``` class, in which we use a ```MAP``` inference algorithm as there are no latent variables outside the SVGPRegression module. Additional, we specify ```grad_loop``` to be ```MiniBatchInferenceLoop``` in which we set the size of mini-batch and the scaling factor for minibatch training.\n",
    "\n",
    "Then, training is triggered by calling the ```run``` method."
   ]
  },
  {
   "cell_type": "code",
   "execution_count": 38,
   "metadata": {},
   "outputs": [
    {
     "name": "stdout",
     "output_type": "stream",
     "text": [
      "epoch 1 Iteration 100 loss: 933115.0603707978\t\t\tepoch-loss: 10413624.614005275 \n",
      "epoch 2 Iteration 100 loss: 524948.7079326594\t\t\tepoch-loss: 686034.5295730559 \n",
      "epoch 3 Iteration 100 loss: 345602.4022749258\t\t\tepoch-loss: 427065.8343717841 \n",
      "epoch 4 Iteration 100 loss: 277011.3760208657\t\t\tepoch-loss: 297071.493696023 \n",
      "epoch 5 Iteration 100 loss: 183347.13021907964\t\t\tepoch-loss: 219808.0871498559 \n",
      "epoch 6 Iteration 100 loss: 143763.11007552472\t\t\tepoch-loss: 169486.20729875282 \n",
      "epoch 7 Iteration 100 loss: 132031.47695326462\t\t\tepoch-loss: 134765.1471133905 \n",
      "epoch 8 Iteration 100 loss: 95632.60561449913\t\t\tepoch-loss: 109798.66321648406 \n",
      "epoch 9 Iteration 100 loss: 73957.6220462552\t\t\tepoch-loss: 91257.8705670977 \n",
      "epoch 10 Iteration 100 loss: 64840.07207031624\t\t\tepoch-loss: 77084.06942481917 \n",
      "epoch 11 Iteration 100 loss: 60780.27278575914\t\t\tepoch-loss: 65962.38163622493 \n",
      "epoch 12 Iteration 100 loss: 48546.66342698521\t\t\tepoch-loss: 57037.39009905885 \n",
      "epoch 13 Iteration 100 loss: 42676.907263579335\t\t\tepoch-loss: 49725.50869601666 \n",
      "epoch 14 Iteration 100 loss: 43266.74759690139\t\t\tepoch-loss: 43635.70855486856 \n",
      "epoch 15 Iteration 100 loss: 33139.32033870425\t\t\tepoch-loss: 38501.415430223606 \n",
      "epoch 16 Iteration 100 loss: 35129.68003531527\t\t\tepoch-loss: 34139.30892930683 \n",
      "epoch 17 Iteration 100 loss: 33309.08869286892\t\t\tepoch-loss: 30414.713307491817 \n",
      "epoch 18 Iteration 100 loss: 31058.180286752693\t\t\tepoch-loss: 27222.957705478882 \n",
      "epoch 19 Iteration 100 loss: 22781.668494776342\t\t\tepoch-loss: 24466.753696665117 \n",
      "epoch 20 Iteration 100 loss: 16921.53875526696\t\t\tepoch-loss: 22063.866203795988 \n",
      "epoch 21 Iteration 100 loss: 16866.27172281184\t\t\tepoch-loss: 19959.435781693166 \n",
      "epoch 22 Iteration 100 loss: 18001.39866328793\t\t\tepoch-loss: 18093.70564938978 \n",
      "epoch 23 Iteration 100 loss: 19268.435700542395\t\t\tepoch-loss: 16435.61461383947 \n",
      "epoch 24 Iteration 100 loss: 13586.70681551015\t\t\tepoch-loss: 14947.197437326102 \n",
      "epoch 25 Iteration 100 loss: 11842.634017398044\t\t\tepoch-loss: 13605.954880888436 \n",
      "epoch 26 Iteration 100 loss: 12304.581180033452\t\t\tepoch-loss: 12393.880316263208 \n",
      "epoch 27 Iteration 100 loss: 12712.095456995734\t\t\tepoch-loss: 11293.27810727986 \n",
      "epoch 28 Iteration 100 loss: 12662.540317512301\t\t\tepoch-loss: 10292.698091923068 \n",
      "epoch 29 Iteration 100 loss: 9789.253683769626\t\t\tepoch-loss: 9379.934609293405 \n",
      "epoch 30 Iteration 100 loss: 10336.484081253366\t\t\tepoch-loss: 8542.778732654882 \n",
      "epoch 31 Iteration 100 loss: 8427.615871046397\t\t\tepoch-loss: 7780.101399774407 \n",
      "epoch 32 Iteration 100 loss: 6243.338653452632\t\t\tepoch-loss: 7083.3906599663305 \n",
      "epoch 33 Iteration 100 loss: 5633.910939630758\t\t\tepoch-loss: 6442.360608787293 \n",
      "epoch 34 Iteration 100 loss: 6128.494674105952\t\t\tepoch-loss: 5856.924952855579 \n",
      "epoch 35 Iteration 100 loss: 5561.132651568278\t\t\tepoch-loss: 5319.662670742758 \n",
      "epoch 36 Iteration 100 loss: 5007.633559342303\t\t\tepoch-loss: 4827.494923733251 \n",
      "epoch 37 Iteration 100 loss: 4570.798941667555\t\t\tepoch-loss: 4375.152951451802 \n",
      "epoch 38 Iteration 100 loss: 3427.8776815125993\t\t\tepoch-loss: 3958.746627662967 \n",
      "epoch 39 Iteration 100 loss: 3145.271868648371\t\t\tepoch-loss: 3574.2727718396727 \n",
      "epoch 40 Iteration 100 loss: 3252.388844355417\t\t\tepoch-loss: 3216.389789008766 \n",
      "epoch 41 Iteration 100 loss: 2682.992323506939\t\t\tepoch-loss: 2880.8040627817663 \n",
      "epoch 42 Iteration 100 loss: 2776.54316335849\t\t\tepoch-loss: 2563.2893900928902 \n",
      "epoch 43 Iteration 100 loss: 2052.181117489573\t\t\tepoch-loss: 2259.124250598867 \n",
      "epoch 44 Iteration 100 loss: 1789.3450917418618\t\t\tepoch-loss: 1963.4009524512699 \n",
      "epoch 45 Iteration 100 loss: 1637.0460616480382\t\t\tepoch-loss: 1683.301052960261 \n",
      "epoch 46 Iteration 100 loss: 1250.3190196168575\t\t\tepoch-loss: 1421.08925599032 \n",
      "epoch 47 Iteration 100 loss: 1056.4280170128945\t\t\tepoch-loss: 1181.4882875552755 \n",
      "epoch 48 Iteration 100 loss: 934.1323712121834\t\t\tepoch-loss: 972.8920812023131 \n",
      "epoch 49 Iteration 100 loss: 743.6854774208032\t\t\tepoch-loss: 794.3919410633861 \n",
      "epoch 50 Iteration 100 loss: 592.0162492873271\t\t\tepoch-loss: 643.6129305537779 \n",
      "epoch 1 Iteration 100 loss: -617.7115390031664\t\t\tepoch-loss: 122.02590714978953 \n",
      "epoch 2 Iteration 100 loss: -1042.9322804366407\t\t\tepoch-loss: -861.8691127743712 \n",
      "epoch 3 Iteration 100 loss: -1246.1061590298375\t\t\tepoch-loss: -1142.8551043268158 \n",
      "epoch 4 Iteration 100 loss: -1422.4364206976472\t\t\tepoch-loss: -1248.3343954963652 \n",
      "epoch 5 Iteration 100 loss: -1364.319275718058\t\t\tepoch-loss: -1319.0632400945233 \n",
      "epoch 6 Iteration 100 loss: -1138.6014678286117\t\t\tepoch-loss: -1375.485088640635 \n",
      "epoch 7 Iteration 100 loss: -1468.2449906521865\t\t\tepoch-loss: -1415.3387799226973 \n",
      "epoch 8 Iteration 100 loss: -1331.0742440765116\t\t\tepoch-loss: -1398.7259993571608 \n",
      "epoch 9 Iteration 100 loss: -1023.1218294411456\t\t\tepoch-loss: -1406.2506096944428 \n",
      "epoch 10 Iteration 100 loss: -1491.0721525479291\t\t\tepoch-loss: -1425.3786072098467 \n",
      "epoch 11 Iteration 100 loss: -1487.9902441406107\t\t\tepoch-loss: -1385.4821177117121 \n",
      "epoch 12 Iteration 100 loss: -963.575720938497\t\t\tepoch-loss: -1148.7904243974 \n",
      "epoch 13 Iteration 100 loss: -1496.8723348964538\t\t\tepoch-loss: -1248.4710558849933 \n",
      "epoch 14 Iteration 100 loss: -1189.2469453417261\t\t\tepoch-loss: -1302.58240646708 \n",
      "epoch 15 Iteration 100 loss: -1354.0129933002445\t\t\tepoch-loss: -1422.9290660653176 \n",
      "epoch 16 Iteration 100 loss: -1375.0688655561046\t\t\tepoch-loss: -1296.0532055882159 \n",
      "epoch 17 Iteration 100 loss: -1601.7368685439442\t\t\tepoch-loss: -1432.8777691683824 \n",
      "epoch 18 Iteration 100 loss: -1140.428056593764\t\t\tepoch-loss: -1443.8657069101057 \n",
      "epoch 19 Iteration 100 loss: -1396.6869254783921\t\t\tepoch-loss: -1421.0467725977735 \n",
      "epoch 20 Iteration 100 loss: -1313.511818206805\t\t\tepoch-loss: -1411.19388568273 \n",
      "epoch 21 Iteration 100 loss: -1508.1672406497062\t\t\tepoch-loss: -1427.8889874691674 \n",
      "epoch 22 Iteration 100 loss: -1249.1642813846483\t\t\tepoch-loss: -1379.492333117903 \n",
      "epoch 23 Iteration 100 loss: -1214.1394062603918\t\t\tepoch-loss: -1356.5797617962307 \n",
      "epoch 24 Iteration 100 loss: -1554.6263005956837\t\t\tepoch-loss: -1358.5256191991677 \n",
      "epoch 25 Iteration 100 loss: -1419.5889498936215\t\t\tepoch-loss: -1405.5467914984783 \n",
      "epoch 26 Iteration 100 loss: -1262.3682620336267\t\t\tepoch-loss: -1409.6484860247688 \n",
      "epoch 27 Iteration 100 loss: -1327.4752015434606\t\t\tepoch-loss: -1368.1521038967614 \n",
      "epoch 28 Iteration 100 loss: -1256.4414309051297\t\t\tepoch-loss: -1351.3528504368003 \n",
      "epoch 29 Iteration 100 loss: -1178.4788588168844\t\t\tepoch-loss: -1413.816013007459 \n",
      "epoch 30 Iteration 100 loss: -1605.1239164704423\t\t\tepoch-loss: -1426.6550440932342 \n",
      "epoch 31 Iteration 100 loss: -1617.1795697144926\t\t\tepoch-loss: -1356.5267725452202 \n",
      "epoch 32 Iteration 100 loss: -1590.7237287842681\t\t\tepoch-loss: -1425.2884165221458 \n",
      "epoch 33 Iteration 100 loss: -1594.3448025229204\t\t\tepoch-loss: -1420.5483351285052 \n",
      "epoch 34 Iteration 100 loss: -1576.9397677615486\t\t\tepoch-loss: -1430.2946033617723 \n",
      "epoch 35 Iteration 100 loss: -1303.3497394593587\t\t\tepoch-loss: -1380.3330104443605 \n",
      "epoch 36 Iteration 100 loss: -1478.0145396344049\t\t\tepoch-loss: -1399.0665992260174 \n",
      "epoch 37 Iteration 100 loss: -1555.4119456067176\t\t\tepoch-loss: -1360.9939473244767 \n",
      "epoch 38 Iteration 100 loss: -1553.031887368961\t\t\tepoch-loss: -1419.1421503464217 \n",
      "epoch 39 Iteration 100 loss: -1427.3431059260865\t\t\tepoch-loss: -1415.0248356293594 \n",
      "epoch 40 Iteration 100 loss: -1137.8470272897798\t\t\tepoch-loss: -1398.6618957762776 \n",
      "epoch 41 Iteration 100 loss: -1551.999240061582\t\t\tepoch-loss: -1402.3061839927834 \n",
      "epoch 42 Iteration 100 loss: -1458.4434735943848\t\t\tepoch-loss: -1425.2654433536431 \n",
      "epoch 43 Iteration 100 loss: -1585.6542548185487\t\t\tepoch-loss: -1384.815978968837 \n",
      "epoch 44 Iteration 100 loss: -1410.7384899311965\t\t\tepoch-loss: -1400.3690408109871 \n",
      "epoch 45 Iteration 100 loss: -1343.7557878846794\t\t\tepoch-loss: -1402.4205821010662 \n",
      "epoch 46 Iteration 100 loss: -1309.0681838828461\t\t\tepoch-loss: -1412.2783526889364 \n",
      "epoch 47 Iteration 100 loss: -1125.0585501913108\t\t\tepoch-loss: -1391.0496208478644 \n",
      "epoch 48 Iteration 100 loss: -1470.087468755146\t\t\tepoch-loss: -1390.1175558545679 \n",
      "epoch 49 Iteration 100 loss: -1572.597159674086\t\t\tepoch-loss: -1389.4460105298315 \n",
      "epoch 50 Iteration 100 loss: -1113.9894360784558\t\t\tepoch-loss: -1403.3841449208112 \n"
     ]
    }
   ],
   "source": [
    "import mxnet as mx\n",
    "from mxfusion.inference import GradBasedInference, MAP, MinibatchInferenceLoop\n",
    "\n",
    "infr = GradBasedInference(inference_algorithm=MAP(model=m, observed=[m.X, m.Y]), \n",
    "                          grad_loop=MinibatchInferenceLoop(batch_size=10, rv_scaling={m.Y: 1000/10}))\n",
    "infr.initialize(X=(1000,1), Y=(1000,1))\n",
    "infr.params[m.Y.factor.inducing_inputs] = mx.nd.array(np.random.randn(20, 1), dtype='float64')\n",
    "infr.run(X=mx.nd.array(X, dtype='float64'), Y=mx.nd.array(Y, dtype='float64'), \n",
    "         max_iter=50, learning_rate=0.1, verbose=True)\n",
    "infr.run(X=mx.nd.array(X, dtype='float64'), Y=mx.nd.array(Y, dtype='float64'), \n",
    "         max_iter=50, learning_rate=0.01, verbose=True)"
   ]
  },
  {
   "cell_type": "markdown",
   "metadata": {},
   "source": [
    "The learned kernel parameters are as follows:"
   ]
  },
  {
   "cell_type": "code",
   "execution_count": 44,
   "metadata": {},
   "outputs": [
    {
     "name": "stdout",
     "output_type": "stream",
     "text": [
      "The estimated variance of the RBF kernel is 0.220715.\n",
      "The estimated length scale of the RBF kernel is 0.498507.\n",
      "The estimated variance of the Gaussian likelihood is 0.003107.\n"
     ]
    }
   ],
   "source": [
    "print('The estimated variance of the RBF kernel is %f.' % infr.params[m.kernel.variance].asscalar())\n",
    "print('The estimated length scale of the RBF kernel is %f.' % infr.params[m.kernel.lengthscale].asscalar())\n",
    "print('The estimated variance of the Gaussian likelihood is %f.' % infr.params[m.noise_var].asscalar())"
   ]
  },
  {
   "cell_type": "markdown",
   "metadata": {},
   "source": [
    "## Prediction\n",
    "\n",
    "The prediction of a SVGP model can be done by creating a ```TransferInference``` instance."
   ]
  },
  {
   "cell_type": "code",
   "execution_count": 45,
   "metadata": {},
   "outputs": [],
   "source": [
    "from mxfusion.inference import TransferInference, ModulePredictionAlgorithm\n",
    "infr_pred = TransferInference(ModulePredictionAlgorithm(model=m, observed=[m.X], target_variables=[m.Y]), \n",
    "                              infr_params=infr.params)\n",
    "m.Y.factor.svgp_predict.jitter = 1e-6"
   ]
  },
  {
   "cell_type": "markdown",
   "metadata": {},
   "source": [
    "To visualize the fitted model, we make predictions on 100 points evenly spanned from -5 to 5. We estimate the mean and variance of the noise-free output $F$."
   ]
  },
  {
   "cell_type": "code",
   "execution_count": 46,
   "metadata": {},
   "outputs": [],
   "source": [
    "xt = np.linspace(-5,5,100)[:, None]\n",
    "res = infr_pred.run(X=mx.nd.array(xt, dtype='float64'))[0]\n",
    "f_mean, f_var = res[0].asnumpy()[0], res[1].asnumpy()[0]"
   ]
  },
  {
   "cell_type": "markdown",
   "metadata": {},
   "source": [
    "The resulting figure is shown as follows:"
   ]
  },
  {
   "cell_type": "code",
   "execution_count": 47,
   "metadata": {},
   "outputs": [
    {
     "data": {
      "image/png": "[encoded data removed]",
      "text/plain": [
       "<Figure size 432x288 with 1 Axes>"
      ]
     },
     "metadata": {
      "needs_background": "light"
     },
     "output_type": "display_data"
    }
   ],
   "source": [
    "plot(xt, f_mean[:,0], 'b-', label='mean')\n",
    "plot(xt, f_mean[:,0]-2*np.sqrt(f_var[:, 0]), 'b--', label='2 x std')\n",
    "plot(xt, f_mean[:,0]+2*np.sqrt(f_var[:, 0]), 'b--')\n",
    "plot(X, Y, 'rx', label='data points')\n",
    "ylabel('F')\n",
    "xlabel('X')\n",
    "_=legend()"
   ]
  }
 ],
 "metadata": {
  "kernelspec": {
   "display_name": "Python 3",
   "language": "python",
   "name": "python3"
  },
  "language_info": {
   "codemirror_mode": {
    "name": "ipython",
    "version": 3
   },
   "file_extension": ".py",
   "mimetype": "text/x-python",
   "name": "python",
   "nbconvert_exporter": "python",
   "pygments_lexer": "ipython3",
   "version": "3.6.0"
  }
 },
 "nbformat": 4,
 "nbformat_minor": 2
}
