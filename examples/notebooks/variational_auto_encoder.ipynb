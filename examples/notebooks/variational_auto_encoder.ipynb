{
 "cells": [
  {
   "cell_type": "markdown",
   "metadata": {},
   "source": [
    "# Variational Auto-Encoder (VAE)\n",
    "\n",
    "### Zhenwen Dai (2018-8-21)"
   ]
  },
  {
   "cell_type": "code",
   "execution_count": 1,
   "metadata": {},
   "outputs": [],
   "source": [
    "import warnings\n",
    "warnings.filterwarnings('ignore')\n",
    "import mxfusion as mf\n",
    "import mxnet as mx\n",
    "import numpy as np\n",
    "import mxnet.gluon.nn as nn\n",
    "import mxfusion.components\n",
    "import mxfusion.inference\n",
    "%matplotlib inline\n",
    "from pylab import *"
   ]
  },
  {
   "cell_type": "markdown",
   "metadata": {},
   "source": [
    "## Load a toy dataset"
   ]
  },
  {
   "cell_type": "code",
   "execution_count": 2,
   "metadata": {},
   "outputs": [],
   "source": [
    "import GPy\n",
    "data = GPy.util.datasets.oil_100()\n",
    "Y = data['X']\n",
    "label = data['Y'].argmax(1)"
   ]
  },
  {
   "cell_type": "code",
   "execution_count": 3,
   "metadata": {},
   "outputs": [],
   "source": [
    "N, D = Y.shape"
   ]
  },
  {
   "cell_type": "markdown",
   "metadata": {},
   "source": [
    "## Model Defintion"
   ]
  },
  {
   "cell_type": "code",
   "execution_count": 4,
   "metadata": {},
   "outputs": [],
   "source": [
    "Q = 2"
   ]
  },
  {
   "cell_type": "code",
   "execution_count": 5,
   "metadata": {},
   "outputs": [],
   "source": [
    "H = 50\n",
    "encoder = nn.HybridSequential(prefix='encoder_')\n",
    "with encoder.name_scope():\n",
    "    encoder.add(nn.Dense(H, activation=\"tanh\"))\n",
    "    encoder.add(nn.Dense(H, activation=\"tanh\"))\n",
    "    encoder.add(nn.Dense(Q, flatten=True))\n",
    "encoder.initialize(mx.init.Xavier(magnitude=3))\n",
    "_=encoder(mx.nd.array(np.random.rand(5,D)))"
   ]
  },
  {
   "cell_type": "code",
   "execution_count": 6,
   "metadata": {},
   "outputs": [],
   "source": [
    "H = 50\n",
    "decoder = nn.HybridSequential(prefix='decoder_')\n",
    "with decoder.name_scope():\n",
    "    decoder.add(nn.Dense(H, activation=\"tanh\"))\n",
    "    decoder.add(nn.Dense(H, activation=\"tanh\"))\n",
    "    decoder.add(nn.Dense(D, flatten=True))\n",
    "decoder.initialize(mx.init.Xavier(magnitude=3))\n",
    "_=decoder(mx.nd.array(np.random.rand(5,Q)))"
   ]
  },
  {
   "cell_type": "code",
   "execution_count": 7,
   "metadata": {},
   "outputs": [],
   "source": [
    "from mxfusion.components.variables.var_trans import PositiveTransformation"
   ]
  },
  {
   "cell_type": "code",
   "execution_count": 8,
   "metadata": {},
   "outputs": [
    {
     "name": "stdout",
     "output_type": "stream",
     "text": [
      "x ~ Normal(mean=Variable(e909c), variance=Variable(e90bf))\n",
      "f = GluonFunctionEvaluation(decoder_input_0=x, decoder_dense0_weight=Variable(0f71b), decoder_dense0_bias=Variable(aee54), decoder_dense1_weight=Variable(8db61), decoder_dense1_bias=Variable(7c56e), decoder_dense2_weight=Variable(85b99), decoder_dense2_bias=Variable(21241))\n",
      "y ~ Normal(mean=f, variance=noise_var)\n"
     ]
    }
   ],
   "source": [
    "m = mf.models.Model()\n",
    "m.N = mf.components.Variable()\n",
    "m.decoder = mf.components.functions.MXFusionGluonFunction(decoder, num_outputs=1,broadcastable=False)\n",
    "m.x = mf.components.distributions.Normal.define_variable(mean=mx.nd.array([0]), variance=mx.nd.array([1]), shape=(m.N, Q))\n",
    "m.f = m.decoder(m.x)\n",
    "m.noise_var = mf.components.Variable(shape=(1,), transformation=PositiveTransformation(), initial_value=mx.nd.array([0.01]))\n",
    "m.y = mf.components.distributions.Normal.define_variable(mean=m.f, variance=m.noise_var, shape=(m.N, D))\n",
    "print(m)"
   ]
  },
  {
   "cell_type": "code",
   "execution_count": 9,
   "metadata": {},
   "outputs": [
    {
     "name": "stdout",
     "output_type": "stream",
     "text": [
      "x_mean = GluonFunctionEvaluation(encoder_input_0=y, encoder_dense0_weight=Variable(9768f), encoder_dense0_bias=Variable(9f1a0), encoder_dense1_weight=Variable(18970), encoder_dense1_bias=Variable(bcff4), encoder_dense2_weight=Variable(3d2a8), encoder_dense2_bias=Variable(95031))\n",
      "x ~ Normal(mean=x_mean, variance=x_var)\n"
     ]
    }
   ],
   "source": [
    "q = mf.models.Posterior(m)\n",
    "q.x_var = mf.components.Variable(shape=(1,), transformation=PositiveTransformation(), initial_value=mx.nd.array([1e-6]))\n",
    "q.encoder = mf.components.functions.MXFusionGluonFunction(encoder, num_outputs=1, broadcastable=False)\n",
    "q.x_mean = q.encoder(q.y)\n",
    "q.x.set_prior(mf.components.distributions.Normal(mean=q.x_mean, variance=q.x_var))\n",
    "print(q)"
   ]
  },
  {
   "cell_type": "markdown",
   "metadata": {},
   "source": [
    "## Variational Inference"
   ]
  },
  {
   "cell_type": "code",
   "execution_count": 10,
   "metadata": {},
   "outputs": [],
   "source": [
    "from mxfusion.inference import BatchInferenceLoop, StochasticVariationalInference, GradBasedInference"
   ]
  },
  {
   "cell_type": "code",
   "execution_count": 11,
   "metadata": {},
   "outputs": [],
   "source": [
    "observed = [m.y]\n",
    "alg = StochasticVariationalInference(num_samples=3, model=m, posterior=q, observed=observed)\n",
    "infr = GradBasedInference(inference_algorithm=alg, grad_loop=BatchInferenceLoop())"
   ]
  },
  {
   "cell_type": "code",
   "execution_count": 12,
   "metadata": {
    "scrolled": true
   },
   "outputs": [
    {
     "name": "stdout",
     "output_type": "stream",
     "text": [
      "Iteration 201 loss: 1715.0395507812525\n",
      "Iteration 401 loss: 599.87670898437525\n",
      "Iteration 601 loss: 149.24291992187538\n",
      "Iteration 801 loss: -44.793395996093755\n",
      "Iteration 1001 loss: -202.39929199218755\n",
      "Iteration 1201 loss: -314.48220825195315\n",
      "Iteration 1401 loss: -301.41076660156255\n",
      "Iteration 1601 loss: -585.94531250937585\n",
      "Iteration 1801 loss: -702.51806640625525\n",
      "Iteration 2000 loss: -775.11627197265625"
     ]
    }
   ],
   "source": [
    "infr.run(max_iter=2000, learning_rate=1e-2, y=mx.nd.array(Y), verbose=True)"
   ]
  },
  {
   "cell_type": "markdown",
   "metadata": {},
   "source": [
    "## Plot the training data in the latent space"
   ]
  },
  {
   "cell_type": "code",
   "execution_count": 13,
   "metadata": {},
   "outputs": [],
   "source": [
    "q_x_mean = q.encoder.gluon_block(mx.nd.array(Y)).asnumpy()"
   ]
  },
  {
   "cell_type": "code",
   "execution_count": 14,
   "metadata": {},
   "outputs": [
    {
     "data": {
      "image/png": "[encoded data removed]",
      "text/plain": [
       "<Figure size 432x288 with 1 Axes>"
      ]
     },
     "metadata": {},
     "output_type": "display_data"
    }
   ],
   "source": [
    "for i in range(3):\n",
    "    plot(q_x_mean[label==i,0], q_x_mean[label==i,1], '.')"
   ]
  }
 ],
 "metadata": {
  "kernelspec": {
   "display_name": "Python 3",
   "language": "python",
   "name": "python3"
  },
  "language_info": {
   "codemirror_mode": {
    "name": "ipython",
    "version": 3
   },
   "file_extension": ".py",
   "mimetype": "text/x-python",
   "name": "python",
   "nbconvert_exporter": "python",
   "pygments_lexer": "ipython3",
   "version": "3.6.5"
  }
 },
 "nbformat": 4,
 "nbformat_minor": 2
}
